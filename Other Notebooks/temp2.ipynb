{
 "cells": [
  {
   "cell_type": "code",
   "execution_count": 14,
   "id": "12c2a136-1d5d-4de3-9a29-16c2f3cf3f7d",
   "metadata": {},
   "outputs": [],
   "source": [
    "import matplotlib.pyplot as plt\n",
    "from sklearn.preprocessing import LabelEncoder \n",
    "import os\n",
    "from tensorflow import keras\n",
    "import random\n",
    "from keras.callbacks import EarlyStopping\n",
    "from sklearn.model_selection import train_test_split\n",
    "from tensorflow.keras import optimizers"
   ]
  },
  {
   "cell_type": "code",
   "execution_count": 2,
   "id": "c357028f-9096-42a0-9a1b-bd36b23e82fe",
   "metadata": {},
   "outputs": [],
   "source": [
    "import numpy as np\n",
    "import pandas as pd\n",
    "import os\n",
    "import keras"
   ]
  },
  {
   "cell_type": "code",
   "execution_count": 3,
   "id": "1a5901fb-7ca4-4630-bd5d-2ea1ec21cb08",
   "metadata": {},
   "outputs": [],
   "source": [
    "temperature_data_path = 'data/temperature/'\n",
    "height_data_path = 'data/height/'\n",
    "\n",
    "temperature_files = os.listdir(temperature_data_path)\n",
    "height_files = os.listdir(height_data_path)"
   ]
  },
  {
   "cell_type": "code",
   "execution_count": 4,
   "id": "c8459827-b70a-4531-a398-4cf56b408ac1",
   "metadata": {},
   "outputs": [],
   "source": [
    "temperature_data = []\n",
    "height_data = []\n",
    "\n",
    "for temperature_file in temperature_files:\n",
    "    file_path = temperature_data_path + temperature_file\n",
    "    data = pd.read_csv(file_path)\n",
    "    temperature_data.append(data)\n",
    "    \n",
    "for height_file in height_files:\n",
    "    file_path = height_data_path + height_file\n",
    "    data = pd.read_csv(file_path)\n",
    "    height_data.append(data)"
   ]
  },
  {
   "cell_type": "code",
   "execution_count": 5,
   "id": "d9b127aa-cd2a-4844-9fdf-3a3021631bfc",
   "metadata": {},
   "outputs": [],
   "source": [
    "temp_data_train = np.array(temperature_data[:1200])\n",
    "temp_data_val = np.array(temperature_data[1200:1600])\n",
    "temp_data_test = np.array(temperature_data[1600:])\n",
    "\n",
    "height_data_train = np.array(height_data[:1200])\n",
    "height_data_val = np.array(height_data[1200:1600])\n",
    "height_data_test = np.array(height_data[1600:])"
   ]
  },
  {
   "cell_type": "code",
   "execution_count": 6,
   "id": "b2c62034-1a36-4282-9201-ce1d7ab92832",
   "metadata": {},
   "outputs": [
    {
     "name": "stdout",
     "output_type": "stream",
     "text": [
      "(200, 201)\n"
     ]
    }
   ],
   "source": [
    "print(temp_data_train[0].shape)"
   ]
  },
  {
   "cell_type": "code",
   "execution_count": 29,
   "id": "581297bc-f1bd-4302-9fd9-146c3a1f0238",
   "metadata": {},
   "outputs": [
    {
     "name": "stdout",
     "output_type": "stream",
     "text": [
      "[300.   300.   300.   300.   300.   300.   300.   300.   300.   300.\n",
      " 300.   300.   300.   300.   300.   300.   300.   300.   300.   300.\n",
      " 300.   300.   300.14 300.56 301.27 302.24 303.45 304.9  306.55 308.36\n",
      " 310.32 312.38 314.51 316.67 318.81 320.91 322.92 324.8  326.54 328.08\n",
      " 329.41 330.49 331.32 331.88 332.15 332.14 331.83 331.25 330.39 329.27\n",
      " 327.92 326.35 324.6  322.7  320.68 318.57 316.43 314.27 312.15 310.1\n",
      " 308.16 306.35 304.73 303.31 302.11 301.17 300.5  300.11 300.   300.\n",
      " 300.   300.   300.   300.   300.   300.   300.   300.   300.   300.\n",
      " 300.   300.   300.   300.   300.   300.   300.   300.   300.   300.\n",
      " 300.   300.   300.   300.   300.   300.   300.   300.   300.   300.\n",
      " 300.   300.   300.   300.   300.   300.   300.   300.   300.   300.\n",
      " 300.   300.   300.   300.   300.   300.   300.   300.   300.   300.\n",
      " 300.   300.   300.   300.   300.   300.   300.   300.   300.   300.\n",
      " 300.   300.   300.   300.   300.   300.   300.   300.   300.   300.\n",
      " 300.   300.   300.   300.   300.   300.   300.   300.   300.   300.\n",
      " 300.   300.   300.   300.   300.   300.   300.   300.   300.   300.\n",
      " 300.   300.   300.   300.   300.   300.   300.   300.76 301.96 303.65\n",
      " 305.7  308.   310.38 312.7  314.81 316.57 317.88 318.64 318.8  318.37\n",
      " 317.36 315.84 313.91 311.69 309.32 306.96 304.75 302.85 301.36 300.4\n",
      " 300.   300.   300.   300.   300.   300.   300.   300.   300.   300.\n",
      " 300.  ]\n"
     ]
    }
   ],
   "source": [
    "print(temp_data_train[0][0])"
   ]
  },
  {
   "cell_type": "code",
   "execution_count": 64,
   "id": "04adc299-f5cb-4e47-bb9d-8b030e1797e7",
   "metadata": {},
   "outputs": [],
   "source": [
    "epochs  = 20"
   ]
  },
  {
   "cell_type": "code",
   "execution_count": 110,
   "id": "599f5ace-91be-493f-8d8f-6bd92e7da2bb",
   "metadata": {},
   "outputs": [],
   "source": [
    "temperature_data_new = np.array(temperature_data)\n",
    "height_data_new = np.array(height_data)"
   ]
  },
  {
   "cell_type": "code",
   "execution_count": null,
   "id": "1baa78fd-0611-40d4-918d-76af964eb87c",
   "metadata": {},
   "outputs": [],
   "source": []
  },
  {
   "cell_type": "code",
   "execution_count": 111,
   "id": "1ace5d52-6a9e-4490-979e-bc5fa437819a",
   "metadata": {},
   "outputs": [],
   "source": [
    "temperature_data_new = temperature_data_new[:,0,:]"
   ]
  },
  {
   "cell_type": "code",
   "execution_count": 112,
   "id": "e92b0d96-9391-46b3-8a51-5a68ffc29fc3",
   "metadata": {},
   "outputs": [],
   "source": [
    "height_data_new = height_data_new[:,0,:]"
   ]
  },
  {
   "cell_type": "code",
   "execution_count": 114,
   "id": "5c3ec190-a20f-43de-b024-da667b2cb297",
   "metadata": {},
   "outputs": [
    {
     "data": {
      "image/png": "[encoded data removed]",
      "text/plain": [
       "<Figure size 432x288 with 1 Axes>"
      ]
     },
     "metadata": {
      "needs_background": "light"
     },
     "output_type": "display_data"
    }
   ],
   "source": [
    "plt.hist(height_data_new[0])\n",
    "plt.show()"
   ]
  },
  {
   "cell_type": "code",
   "execution_count": 103,
   "id": "4e0e0b1c-eb35-486b-9ba7-fafa89e9eb75",
   "metadata": {},
   "outputs": [],
   "source": [
    "temp_mean = temperature_data_new.mean()\n",
    "temp_std = temperature_data_new.std()\n",
    "\n",
    "height_mean = height_data_new.mean()\n",
    "height_std = height_data_new.std()"
   ]
  },
  {
   "cell_type": "code",
   "execution_count": 109,
   "id": "93740a0d-1cd0-4905-b7c4-bd8740237133",
   "metadata": {},
   "outputs": [
    {
     "name": "stdout",
     "output_type": "stream",
     "text": [
      "15059.836748867678 5712181.094231742\n"
     ]
    }
   ],
   "source": [
    "print(height_mean, height_std)"
   ]
  },
  {
   "cell_type": "code",
   "execution_count": 104,
   "id": "c08bde51-6940-4837-a45a-2583b690af08",
   "metadata": {},
   "outputs": [],
   "source": [
    "temperature_data_new = (temperature_data_new - temp_mean)/temp_std\n",
    "height_data_new = (height_data_new - height_mean)/height_std"
   ]
  },
  {
   "cell_type": "code",
   "execution_count": 108,
   "id": "9d8feb9e-6f9d-401c-8d48-ef924ed8a4ab",
   "metadata": {},
   "outputs": [
    {
     "name": "stdout",
     "output_type": "stream",
     "text": [
      "[-0.00261686 -0.00261571 -0.00261467 -0.00261372 -0.00261286 -0.00261209\n",
      " -0.00261141 -0.00261081 -0.00261029 -0.00260984 -0.00260947 -0.00260917\n",
      " -0.00260894 -0.00260877 -0.00260866 -0.00260861 -0.00260862 -0.00260868\n",
      " -0.00260879 -0.00260894 -0.00260914 -0.00260938 -0.00260965 -0.00260996\n",
      " -0.0026103  -0.00261067 -0.00261105 -0.00261147 -0.00261189 -0.00261233\n",
      " -0.00261278 -0.00261324 -0.00261369 -0.00261415 -0.0026146  -0.00261505\n",
      " -0.00261548 -0.0026159  -0.0026163  -0.00261669 -0.00261705 -0.00261739\n",
      " -0.00261769 -0.00261798 -0.00261823 -0.00261845 -0.00261864 -0.00261881\n",
      " -0.00261894 -0.00261905 -0.00261912 -0.00261917 -0.00261919 -0.0026192\n",
      " -0.00261917 -0.00261914 -0.00261909 -0.00261903 -0.00261895 -0.00261887\n",
      " -0.00261878 -0.0026187  -0.0026186  -0.00261852 -0.00261844 -0.00261837\n",
      " -0.00261831 -0.00261826 -0.00261822 -0.00261821 -0.0026182  -0.00261823\n",
      " -0.00261826 -0.00261833 -0.00261842 -0.00261854 -0.00261868 -0.00261886\n",
      " -0.00261905 -0.00261929 -0.00261955 -0.00261986 -0.00262018 -0.00262052\n",
      " -0.00262084 -0.00262117 -0.00262145 -0.00262169 -0.00262185 -0.00262196\n",
      " -0.00262198 -0.00262194 -0.00262182 -0.00262166 -0.00262144 -0.00262121\n",
      " -0.00262095 -0.00262071 -0.00262046 -0.00262023 -0.00262    -0.00261979\n",
      " -0.00261957 -0.00261936 -0.00261914 -0.00261892 -0.00261868 -0.00261845\n",
      " -0.00261818 -0.00261793 -0.00261763 -0.00261735 -0.00261702 -0.00261671\n",
      " -0.00261635 -0.002616   -0.00261562 -0.00261525 -0.00261484 -0.00261445\n",
      " -0.00261402 -0.00261362 -0.00261319 -0.00261278 -0.00261236 -0.00261196\n",
      " -0.00261155 -0.00261118 -0.00261079 -0.00261045 -0.0026101  -0.00260981\n",
      " -0.00260951 -0.00260928 -0.00260904 -0.00260888 -0.00260872 -0.00260863\n",
      " -0.00260857 -0.00260857 -0.00260861 -0.00260872 -0.00260886 -0.00260909\n",
      " -0.00260936 -0.00260972 -0.00261012 -0.00261062 -0.00261118 -0.00261183\n",
      " -0.00261254 -0.00261336 -0.00261425 -0.00261525 -0.00261632 -0.00261752\n",
      " -0.0026188  -0.00262021 -0.00262171 -0.00262336 -0.00262511 -0.00262702\n",
      " -0.00262906 -0.00263129 -0.00263352 -0.00263537 -0.00263569 -0.00263549\n",
      " -0.00263595 -0.00263556 -0.00263613 -0.00263564 -0.00263614 -0.00263582\n",
      " -0.0026358  -0.00263629 -0.00263588 -0.00263594 -0.00263602 -0.00263586\n",
      " -0.00263604 -0.00263622 -0.00263564 -0.00263617 -0.00263577 -0.00263585\n",
      " -0.00263592 -0.00263562 -0.00263592 -0.00263541 -0.00263583 -0.00263465\n",
      " -0.00263253 -0.00263027 -0.00262811 -0.00262611 -0.00262425 -0.00262254\n",
      " -0.00262094 -0.00261947 -0.00261811]\n"
     ]
    }
   ],
   "source": [
    "print(height_data_new[200])"
   ]
  },
  {
   "cell_type": "code",
   "execution_count": 106,
   "id": "038bb411-5724-4407-ac53-a82ae2dd91ba",
   "metadata": {},
   "outputs": [],
   "source": [
    "seed = 7\n",
    "np.random.seed(seed)\n",
    "X_train, X_test, Y_train, Y_test = train_test_split(temperature_data_new, height_data_new, test_size=0.1, random_state=seed)"
   ]
  },
  {
   "cell_type": "code",
   "execution_count": 107,
   "id": "46097f44-56ce-4ff2-b863-d8370eba6cb9",
   "metadata": {},
   "outputs": [],
   "source": [
    "es = EarlyStopping(monitor='loss', mode='min', verbose=1,min_delta=0.01, patience=20)\n",
    "lr_schedule = optimizers.schedules.ExponentialDecay(initial_learning_rate=0.001, decay_steps=1600, decay_rate=0.95)\n",
    "rmsprop = optimizers.RMSprop(learning_rate=lr_schedule, momentum=0.3)"
   ]
  },
  {
   "cell_type": "code",
   "execution_count": 91,
   "id": "f9ad3563-4d32-4c67-917c-192167808dbd",
   "metadata": {},
   "outputs": [],
   "source": [
    "model = keras.models.Sequential([\n",
    "        #keras.layers.Dense(100, input_shape=(200, 201), activation=\"relu\"),   \n",
    "        keras.layers.Dense(201, activation=\"relu\"),   \n",
    "        keras.layers.Dense(201, activation=\"relu\"),\n",
    "        keras.layers.Dense(201, activation=None)\n",
    "])"
   ]
  },
  {
   "cell_type": "code",
   "execution_count": 92,
   "id": "842b644b-bc0d-4b3f-99b5-895d0067c1f6",
   "metadata": {},
   "outputs": [],
   "source": [
    "model.compile(optimizer=rmsprop,loss=\"mse\", metrics=[\"mse\"])"
   ]
  },
  {
   "cell_type": "code",
   "execution_count": 56,
   "id": "4853ea5e-8e76-4a5b-832d-f6fc12151d76",
   "metadata": {},
   "outputs": [
    {
     "ename": "ValueError",
     "evalue": "This model has not yet been built. Build the model first by calling `build()` or by calling the model on a batch of data.",
     "output_type": "error",
     "traceback": [
      "\u001b[1;31m---------------------------------------------------------------------------\u001b[0m",
      "\u001b[1;31mValueError\u001b[0m                                Traceback (most recent call last)",
      "Input \u001b[1;32mIn [56]\u001b[0m, in \u001b[0;36m<module>\u001b[1;34m\u001b[0m\n\u001b[1;32m----> 1\u001b[0m \u001b[43mmodel\u001b[49m\u001b[38;5;241;43m.\u001b[39;49m\u001b[43msummary\u001b[49m\u001b[43m(\u001b[49m\u001b[43m)\u001b[49m\n",
      "File \u001b[1;32mc:\\users\\dell\\appdata\\local\\programs\\python\\python38\\lib\\site-packages\\keras\\engine\\training.py:2775\u001b[0m, in \u001b[0;36mModel.summary\u001b[1;34m(self, line_length, positions, print_fn, expand_nested, show_trainable)\u001b[0m\n\u001b[0;32m   2753\u001b[0m \u001b[38;5;124;03m\"\"\"Prints a string summary of the network.\u001b[39;00m\n\u001b[0;32m   2754\u001b[0m \n\u001b[0;32m   2755\u001b[0m \u001b[38;5;124;03mArgs:\u001b[39;00m\n\u001b[1;32m   (...)\u001b[0m\n\u001b[0;32m   2772\u001b[0m \u001b[38;5;124;03m    ValueError: if `summary()` is called before the model is built.\u001b[39;00m\n\u001b[0;32m   2773\u001b[0m \u001b[38;5;124;03m\"\"\"\u001b[39;00m\n\u001b[0;32m   2774\u001b[0m \u001b[38;5;28;01mif\u001b[39;00m \u001b[38;5;129;01mnot\u001b[39;00m \u001b[38;5;28mself\u001b[39m\u001b[38;5;241m.\u001b[39mbuilt:\n\u001b[1;32m-> 2775\u001b[0m   \u001b[38;5;28;01mraise\u001b[39;00m \u001b[38;5;167;01mValueError\u001b[39;00m(\n\u001b[0;32m   2776\u001b[0m       \u001b[38;5;124m'\u001b[39m\u001b[38;5;124mThis model has not yet been built. \u001b[39m\u001b[38;5;124m'\u001b[39m\n\u001b[0;32m   2777\u001b[0m       \u001b[38;5;124m'\u001b[39m\u001b[38;5;124mBuild the model first by calling `build()` or by calling \u001b[39m\u001b[38;5;124m'\u001b[39m\n\u001b[0;32m   2778\u001b[0m       \u001b[38;5;124m'\u001b[39m\u001b[38;5;124mthe model on a batch of data.\u001b[39m\u001b[38;5;124m'\u001b[39m)\n\u001b[0;32m   2779\u001b[0m layer_utils\u001b[38;5;241m.\u001b[39mprint_summary(\n\u001b[0;32m   2780\u001b[0m     \u001b[38;5;28mself\u001b[39m,\n\u001b[0;32m   2781\u001b[0m     line_length\u001b[38;5;241m=\u001b[39mline_length,\n\u001b[1;32m   (...)\u001b[0m\n\u001b[0;32m   2784\u001b[0m     expand_nested\u001b[38;5;241m=\u001b[39mexpand_nested,\n\u001b[0;32m   2785\u001b[0m     show_trainable\u001b[38;5;241m=\u001b[39mshow_trainable)\n",
      "\u001b[1;31mValueError\u001b[0m: This model has not yet been built. Build the model first by calling `build()` or by calling the model on a batch of data."
     ]
    }
   ],
   "source": [
    "model.summary()"
   ]
  },
  {
   "cell_type": "code",
   "execution_count": 93,
   "id": "0e997346-7dcd-403a-b6c4-d535e47a1038",
   "metadata": {},
   "outputs": [
    {
     "name": "stdout",
     "output_type": "stream",
     "text": [
      "Epoch 1/20\n",
      "16/16 [==============================] - 1s 28ms/step - loss: 1.2628 - mse: 1.2628 - val_loss: 0.0041 - val_mse: 0.0041\n",
      "Epoch 2/20\n",
      "16/16 [==============================] - 0s 10ms/step - loss: 1.2351 - mse: 1.2351 - val_loss: 0.0034 - val_mse: 0.0034\n",
      "Epoch 3/20\n",
      "16/16 [==============================] - 0s 9ms/step - loss: 1.2327 - mse: 1.2327 - val_loss: 0.0032 - val_mse: 0.0032\n",
      "Epoch 4/20\n",
      "16/16 [==============================] - 0s 10ms/step - loss: 1.2320 - mse: 1.2320 - val_loss: 0.0031 - val_mse: 0.0031\n",
      "Epoch 5/20\n",
      "16/16 [==============================] - 0s 11ms/step - loss: 1.2299 - mse: 1.2299 - val_loss: 0.0033 - val_mse: 0.0033\n",
      "Epoch 6/20\n",
      "16/16 [==============================] - 0s 14ms/step - loss: 1.2280 - mse: 1.2280 - val_loss: 0.0042 - val_mse: 0.0042\n",
      "Epoch 7/20\n",
      "16/16 [==============================] - 0s 11ms/step - loss: 1.2254 - mse: 1.2254 - val_loss: 0.0047 - val_mse: 0.0047\n",
      "Epoch 8/20\n",
      "16/16 [==============================] - 0s 15ms/step - loss: 1.2222 - mse: 1.2222 - val_loss: 0.0047 - val_mse: 0.0047\n",
      "Epoch 9/20\n",
      "16/16 [==============================] - 0s 11ms/step - loss: 1.2205 - mse: 1.2205 - val_loss: 0.0051 - val_mse: 0.0051\n",
      "Epoch 10/20\n",
      "16/16 [==============================] - 0s 8ms/step - loss: 1.2180 - mse: 1.2180 - val_loss: 0.0055 - val_mse: 0.0055\n",
      "Epoch 11/20\n",
      "16/16 [==============================] - 0s 6ms/step - loss: 1.2141 - mse: 1.2141 - val_loss: 0.0051 - val_mse: 0.0051\n",
      "Epoch 12/20\n",
      "16/16 [==============================] - 0s 9ms/step - loss: 1.2143 - mse: 1.2143 - val_loss: 0.0058 - val_mse: 0.0058\n",
      "Epoch 13/20\n",
      "16/16 [==============================] - 0s 16ms/step - loss: 1.2143 - mse: 1.2143 - val_loss: 0.0085 - val_mse: 0.0085\n",
      "Epoch 14/20\n",
      "16/16 [==============================] - 0s 15ms/step - loss: 1.2058 - mse: 1.2058 - val_loss: 0.0066 - val_mse: 0.0066\n",
      "Epoch 15/20\n",
      "16/16 [==============================] - 0s 13ms/step - loss: 1.2100 - mse: 1.2100 - val_loss: 0.0079 - val_mse: 0.0079\n",
      "Epoch 16/20\n",
      "16/16 [==============================] - 0s 9ms/step - loss: 1.2053 - mse: 1.2053 - val_loss: 0.0085 - val_mse: 0.0085\n",
      "Epoch 17/20\n",
      "16/16 [==============================] - 0s 9ms/step - loss: 1.2035 - mse: 1.2035 - val_loss: 0.0088 - val_mse: 0.0088\n",
      "Epoch 18/20\n",
      "16/16 [==============================] - 0s 8ms/step - loss: 1.1964 - mse: 1.1964 - val_loss: 0.0068 - val_mse: 0.0068\n",
      "Epoch 19/20\n",
      "16/16 [==============================] - 0s 16ms/step - loss: 1.2006 - mse: 1.2006 - val_loss: 0.0075 - val_mse: 0.0075\n",
      "Epoch 20/20\n",
      "16/16 [==============================] - 0s 12ms/step - loss: 1.2084 - mse: 1.2084 - val_loss: 0.0095 - val_mse: 0.0095\n"
     ]
    }
   ],
   "source": [
    "history = model.fit(X_train, Y_train, batch_size=100, callbacks=[es], shuffle=True, epochs=epochs, validation_split=0.1)"
   ]
  },
  {
   "cell_type": "code",
   "execution_count": 94,
   "id": "667a16c5-c219-4ca0-bbae-6d93d70540d6",
   "metadata": {},
   "outputs": [
    {
     "name": "stdout",
     "output_type": "stream",
     "text": [
      "Test loss: 0.014240977354347706\n",
      "Test accuracy: 0.014240977354347706\n"
     ]
    }
   ],
   "source": [
    "score = model.evaluate(X_test, Y_test, verbose=0)\n",
    "print(\"Test loss:\", score[0])\n",
    "print(\"Test accuracy:\", score[1])"
   ]
  },
  {
   "cell_type": "code",
   "execution_count": 95,
   "id": "c9490cf8-60b7-41d3-a034-186c22517cdb",
   "metadata": {},
   "outputs": [
    {
     "name": "stdout",
     "output_type": "stream",
     "text": [
      "[-0.43338791 -0.43338791 -0.43338791 -0.43338791 -0.43338791 -0.43338791\n",
      " -0.43338791 -0.43338791 -0.43338791 -0.43338791 -0.41963932 -0.42945974\n",
      " -0.37151924 -0.25072804 -0.0759245   0.14012481  0.38268926  0.63212801\n",
      "  0.87174634  1.08386748  1.25179672  1.36473159  1.41285166  1.39419286\n",
      "  1.30875518  1.16439495  0.96995057  0.74113471  0.49366005  0.24618538\n",
      "  0.01638747 -0.17903895 -0.32536325 -0.43338791 -0.43338791 -0.43338791\n",
      " -0.43338791 -0.43338791 -0.43338791 -0.43338791 -0.43338791 -0.43338791\n",
      " -0.43338791 -0.43338791 -0.43338791 -0.43338791 -0.43338791 -0.43338791\n",
      " -0.43338791 -0.43338791 -0.43338791 -0.43338791 -0.43338791 -0.43338791\n",
      " -0.43338791 -0.43338791 -0.43338791 -0.43338791 -0.43338791 -0.43338791\n",
      " -0.43338791 -0.43338791 -0.43338791 -0.43338791 -0.43338791 -0.43338791\n",
      " -0.43338791 -0.43338791 -0.43338791 -0.43338791 -0.43338791 -0.43338791\n",
      " -0.43142383 -0.37250129 -0.23305128 -0.01700196  0.26680827  0.60954104\n",
      "  1.00039389  1.42561821  1.87048339  2.32025877  2.76021374  3.17561764\n",
      "  3.55173985  3.87679586  4.13900116  4.33049942  4.44441633  4.47584168\n",
      "  4.42575752  4.29416385  4.08695292  3.81001698  3.47219442  3.08625179\n",
      "  2.66397359  2.2210725   1.77031507  1.32839602  0.91004599  0.52901357\n",
      "  0.19806531 -0.07101429 -0.27036888 -0.43338791 -0.43338791 -0.43338791\n",
      " -0.43338791 -0.43338791 -0.43338791 -0.43338791 -0.43338791 -0.43338791\n",
      " -0.43338791 -0.43338791 -0.43338791 -0.43338791 -0.43338791 -0.43338791\n",
      " -0.43338791 -0.43338791 -0.43338791 -0.43338791 -0.43338791 -0.43338791\n",
      " -0.43338791 -0.43338791 -0.43338791 -0.43338791 -0.43338791 -0.43338791\n",
      " -0.43338791 -0.43338791 -0.43338791 -0.43338791 -0.43338791 -0.43338791\n",
      " -0.43338791 -0.43338791 -0.43338791 -0.43338791 -0.43338791 -0.43338791\n",
      " -0.43338791 -0.43338791 -0.43338791 -0.43338791 -0.43338791 -0.43338791\n",
      " -0.43338791 -0.43338791 -0.43338791 -0.43338791 -0.43338791 -0.43338791\n",
      " -0.43338791 -0.43338791 -0.43338791 -0.43338791 -0.43338791 -0.43338791\n",
      " -0.43338791 -0.43338791 -0.43338791 -0.43338791 -0.43338791 -0.43338791\n",
      " -0.43338791 -0.43338791 -0.43338791 -0.43338791 -0.43338791 -0.43338791\n",
      " -0.43338791 -0.43338791 -0.43338791 -0.43338791 -0.43338791 -0.43338791\n",
      " -0.43338791 -0.43338791 -0.43338791 -0.43338791 -0.43338791 -0.43338791\n",
      " -0.43338791 -0.43338791 -0.43338791 -0.43338791 -0.43338791 -0.43338791\n",
      " -0.43338791 -0.43338791 -0.43338791 -0.43338791 -0.43338791 -0.43338791\n",
      " -0.43338791 -0.43338791 -0.43338791]\n",
      "----------------------------------\n",
      "[-0.00261314 -0.0026139  -0.00261476 -0.00261572 -0.0026168  -0.002618\n",
      " -0.00261932 -0.00262077 -0.00262236 -0.0026241  -0.00262599 -0.00262803\n",
      " -0.00263026 -0.00263258 -0.0026347  -0.0026358  -0.00263533 -0.00263586\n",
      " -0.00263571 -0.00263558 -0.00263594 -0.00263576 -0.0026358  -0.00263578\n",
      " -0.00263577 -0.00263596 -0.00263544 -0.00263607 -0.00263531 -0.00263586\n",
      " -0.00263489 -0.00263241 -0.00262958 -0.00262664 -0.00262394 -0.00262131\n",
      " -0.00261889 -0.00261655 -0.00261442 -0.00261237 -0.00261053 -0.00260875\n",
      " -0.00260719 -0.0026057  -0.00260442 -0.00260321 -0.00260221 -0.00260128\n",
      " -0.00260056 -0.00259991 -0.00259947 -0.00259911 -0.00259895 -0.00259886\n",
      " -0.00259899 -0.00259919 -0.00259959 -0.00260007 -0.00260077 -0.00260153\n",
      " -0.00260251 -0.00260356 -0.00260483 -0.00260617 -0.00260772 -0.00260935\n",
      " -0.0026112  -0.00261313 -0.00261527 -0.0026175  -0.00261995 -0.00262249\n",
      " -0.00262525 -0.00262812 -0.00263113 -0.0026339  -0.00263573 -0.00263525\n",
      " -0.00263582 -0.00263546 -0.00263585 -0.00263566 -0.00263579 -0.00263591\n",
      " -0.00263563 -0.00263628 -0.00263573 -0.00263586 -0.00263593 -0.00263591\n",
      " -0.00263596 -0.00263571 -0.00263591 -0.00263621 -0.00263554 -0.00263611\n",
      " -0.00263559 -0.00263582 -0.00263569 -0.00263555 -0.00263569 -0.00263529\n",
      " -0.00263562 -0.00263409 -0.00263163 -0.00262908 -0.00262674 -0.00262459\n",
      " -0.0026226  -0.00262078 -0.0026191  -0.00261756 -0.00261615 -0.00261487\n",
      " -0.00261371 -0.00261266 -0.00261173 -0.0026109  -0.00261018 -0.00260956\n",
      " -0.00260903 -0.00260859 -0.00260823 -0.00260797 -0.00260778 -0.00260767\n",
      " -0.00260762 -0.00260765 -0.00260774 -0.0026079  -0.00260811 -0.00260837\n",
      " -0.00260868 -0.00260904 -0.00260944 -0.00260988 -0.00261034 -0.00261084\n",
      " -0.00261136 -0.00261191 -0.00261246 -0.00261303 -0.00261361 -0.00261419\n",
      " -0.00261476 -0.00261533 -0.00261588 -0.00261643 -0.00261694 -0.00261744\n",
      " -0.00261791 -0.00261834 -0.00261875 -0.00261911 -0.00261943 -0.00261971\n",
      " -0.00261994 -0.00262013 -0.00262027 -0.00262036 -0.0026204  -0.0026204\n",
      " -0.00262035 -0.00262025 -0.00262011 -0.00261992 -0.00261969 -0.00261942\n",
      " -0.00261912 -0.00261878 -0.00261841 -0.00261801 -0.00261759 -0.00261715\n",
      " -0.00261669 -0.00261622 -0.00261574 -0.00261525 -0.00261476 -0.00261428\n",
      " -0.0026138  -0.00261334 -0.0026129  -0.00261247 -0.00261207 -0.0026117\n",
      " -0.00261137 -0.00261107 -0.00261081 -0.0026106  -0.00261045 -0.00261034\n",
      " -0.00261029 -0.00261031 -0.00261039 -0.00261054 -0.00261076 -0.00261107\n",
      " -0.00261145 -0.00261192 -0.00261248]\n",
      "----------------------------------\n",
      "[-0.00193535 -0.00377917 -0.00447774 -0.00399553 -0.00213227 -0.00223957\n",
      " -0.00254812 -0.00258437 -0.00205961 -0.0029408  -0.00076464 -0.00298337\n",
      " -0.00196946 -0.00313567 -0.00217723 -0.00365593 -0.00295337 -0.00461667\n",
      " -0.00148728 -0.00358584 -0.00335433 -0.002727   -0.00363649 -0.00205956\n",
      " -0.00141649 -0.00253566 -0.002755   -0.00355015 -0.00124856 -0.00171619\n",
      " -0.00192616 -0.00368655 -0.00261207 -0.00268101 -0.00104485 -0.0024092\n",
      " -0.00319381 -0.00422421 -0.00140391 -0.00347236 -0.00310159 -0.00368409\n",
      " -0.00233315 -0.0016701  -0.00318712 -0.00355806 -0.00322346 -0.00396022\n",
      " -0.00218834 -0.00394836 -0.00348254 -0.00344132 -0.00353741 -0.00275579\n",
      " -0.00355982 -0.00127538 -0.00357552 -0.00122785 -0.00266281 -0.00222638\n",
      " -0.00265002 -0.00148648 -0.00397986 -0.0023684  -0.00273523 -0.00393312\n",
      " -0.00137501 -0.00241007 -0.00227413 -0.0026923  -0.002925   -0.00137425\n",
      " -0.00414288 -0.00194999 -0.00339391 -0.00213996 -0.00455075 -0.00259134\n",
      " -0.00301676 -0.00289151 -0.00301226 -0.00397543 -0.00276186 -0.00474715\n",
      "  0.01551235 -0.00204833 -0.00315074  0.0225365  -0.00327499 -0.00304715\n",
      " -0.0015792  -0.0028602  -0.00192356 -0.00145076 -0.00146128 -0.00141659\n",
      " -0.00235611 -0.00327361 -0.00228441 -0.00123671 -0.00199909 -0.00365155\n",
      " -0.00446226 -0.00323445 -0.00230674 -0.00103399 -0.00125164 -0.00352407\n",
      " -0.00395298 -0.00249032 -0.00205188 -0.00337563 -0.00338252 -0.00249665\n",
      " -0.00194957 -0.00364385 -0.00397988 -0.00246297 -0.00177488 -0.00177545\n",
      " -0.00258493 -0.00333952 -0.00516491 -0.00319343 -0.00259344 -0.00228383\n",
      " -0.00191651 -0.00363767 -0.003258   -0.00106832 -0.00234132 -0.00048496\n",
      " -0.00106067 -0.00185848  0.01733584 -0.0039113  -0.00131176 -0.00144825\n",
      " -0.00307773 -0.00211642 -0.00214595 -0.00127149 -0.00224645 -0.00191231\n",
      " -0.00325988 -0.00117867 -0.00214894 -0.00255277 -0.00228457 -0.00263205\n",
      " -0.00097022 -0.00260093 -0.00315027 -0.00398845 -0.00073345 -0.00448237\n",
      "  0.01884646 -0.00257363 -0.00341367 -0.00237451 -0.00115703 -0.00187785\n",
      " -0.00216148 -0.00251652 -0.00216387 -0.00256007 -0.00442997 -0.00154384\n",
      " -0.00180462 -0.00228956 -0.00445826 -0.00578022 -0.00263772 -0.00265194\n",
      " -0.00301189 -0.00256987 -0.0041854  -0.00317911 -0.00234015 -0.0027859\n",
      " -0.00147245 -0.0024161  -0.00394631 -0.00156181 -0.00230951 -0.00183046\n",
      " -0.00233364 -0.00295275 -0.00201927 -0.00138947 -0.00269373 -0.00349292\n",
      " -0.00170755 -0.0018035  -0.00409012 -0.001752   -0.00216909 -0.00345025\n",
      " -0.00215355 -0.00209737 -0.00426411]\n"
     ]
    }
   ],
   "source": [
    "print(X_test[0])\n",
    "print('----------------------------------')\n",
    "print(Y_test[0])\n",
    "print('----------------------------------')\n",
    "prediction = model.predict(X_test)\n",
    "print(prediction[0])"
   ]
  },
  {
   "cell_type": "code",
   "execution_count": 96,
   "id": "eebc63eb-ae73-467f-9fb7-88ca7990f17d",
   "metadata": {},
   "outputs": [
    {
     "data": {
      "image/png": "[encoded data removed]",
      "text/plain": [
       "<Figure size 432x288 with 1 Axes>"
      ]
     },
     "metadata": {
      "needs_background": "light"
     },
     "output_type": "display_data"
    }
   ],
   "source": [
    "plt.plot(history.history['mse'])\n",
    "# plt.plot(history.history['val'])\n",
    "plt.title('model accuracy')\n",
    "plt.ylabel('mse')\n",
    "plt.xlabel('epoch')\n",
    "plt.legend(['train', 'test'], loc='upper left')\n",
    "plt.show()"
   ]
  },
  {
   "cell_type": "code",
   "execution_count": null,
   "id": "62dde30d-c9d3-4eca-9234-b48b0eda325a",
   "metadata": {},
   "outputs": [],
   "source": [
    "plt.plot(history.history['loss'])\n",
    "plt.plot(history.history['val_loss'])\n",
    "plt.title('model loss')\n",
    "plt.ylabel('loss')\n",
    "plt.xlabel('epoch')\n",
    "plt.legend(['train', 'test'], loc='upper left')\n",
    "plt.show()"
   ]
  },
  {
   "cell_type": "code",
   "execution_count": null,
   "id": "8d366e15-94da-4ec5-b0dd-2b7706495327",
   "metadata": {},
   "outputs": [],
   "source": [
    "plt.imshow(temp_data_train[0], cmap='hot', interpolation='nearest')\n",
    "plt.show()"
   ]
  },
  {
   "cell_type": "code",
   "execution_count": 99,
   "id": "d5a4c510-036c-4bd3-a33c-10ce58599511",
   "metadata": {},
   "outputs": [
    {
     "name": "stdout",
     "output_type": "stream",
     "text": [
      "[-0.00261314 -0.0026139  -0.00261476 -0.00261572 -0.0026168  -0.002618\n",
      " -0.00261932 -0.00262077 -0.00262236 -0.0026241  -0.00262599 -0.00262803\n",
      " -0.00263026 -0.00263258 -0.0026347  -0.0026358  -0.00263533 -0.00263586\n",
      " -0.00263571 -0.00263558 -0.00263594 -0.00263576 -0.0026358  -0.00263578\n",
      " -0.00263577 -0.00263596 -0.00263544 -0.00263607 -0.00263531 -0.00263586\n",
      " -0.00263489 -0.00263241 -0.00262958 -0.00262664 -0.00262394 -0.00262131\n",
      " -0.00261889 -0.00261655 -0.00261442 -0.00261237 -0.00261053 -0.00260875\n",
      " -0.00260719 -0.0026057  -0.00260442 -0.00260321 -0.00260221 -0.00260128\n",
      " -0.00260056 -0.00259991 -0.00259947 -0.00259911 -0.00259895 -0.00259886\n",
      " -0.00259899 -0.00259919 -0.00259959 -0.00260007 -0.00260077 -0.00260153\n",
      " -0.00260251 -0.00260356 -0.00260483 -0.00260617 -0.00260772 -0.00260935\n",
      " -0.0026112  -0.00261313 -0.00261527 -0.0026175  -0.00261995 -0.00262249\n",
      " -0.00262525 -0.00262812 -0.00263113 -0.0026339  -0.00263573 -0.00263525\n",
      " -0.00263582 -0.00263546 -0.00263585 -0.00263566 -0.00263579 -0.00263591\n",
      " -0.00263563 -0.00263628 -0.00263573 -0.00263586 -0.00263593 -0.00263591\n",
      " -0.00263596 -0.00263571 -0.00263591 -0.00263621 -0.00263554 -0.00263611\n",
      " -0.00263559 -0.00263582 -0.00263569 -0.00263555 -0.00263569 -0.00263529\n",
      " -0.00263562 -0.00263409 -0.00263163 -0.00262908 -0.00262674 -0.00262459\n",
      " -0.0026226  -0.00262078 -0.0026191  -0.00261756 -0.00261615 -0.00261487\n",
      " -0.00261371 -0.00261266 -0.00261173 -0.0026109  -0.00261018 -0.00260956\n",
      " -0.00260903 -0.00260859 -0.00260823 -0.00260797 -0.00260778 -0.00260767\n",
      " -0.00260762 -0.00260765 -0.00260774 -0.0026079  -0.00260811 -0.00260837\n",
      " -0.00260868 -0.00260904 -0.00260944 -0.00260988 -0.00261034 -0.00261084\n",
      " -0.00261136 -0.00261191 -0.00261246 -0.00261303 -0.00261361 -0.00261419\n",
      " -0.00261476 -0.00261533 -0.00261588 -0.00261643 -0.00261694 -0.00261744\n",
      " -0.00261791 -0.00261834 -0.00261875 -0.00261911 -0.00261943 -0.00261971\n",
      " -0.00261994 -0.00262013 -0.00262027 -0.00262036 -0.0026204  -0.0026204\n",
      " -0.00262035 -0.00262025 -0.00262011 -0.00261992 -0.00261969 -0.00261942\n",
      " -0.00261912 -0.00261878 -0.00261841 -0.00261801 -0.00261759 -0.00261715\n",
      " -0.00261669 -0.00261622 -0.00261574 -0.00261525 -0.00261476 -0.00261428\n",
      " -0.0026138  -0.00261334 -0.0026129  -0.00261247 -0.00261207 -0.0026117\n",
      " -0.00261137 -0.00261107 -0.00261081 -0.0026106  -0.00261045 -0.00261034\n",
      " -0.00261029 -0.00261031 -0.00261039 -0.00261054 -0.00261076 -0.00261107\n",
      " -0.00261145 -0.00261192 -0.00261248]\n"
     ]
    }
   ],
   "source": [
    "print(Y_test[0])"
   ]
  },
  {
   "cell_type": "code",
   "execution_count": 98,
   "id": "d3862627-2708-441a-a268-3e3933bffd89",
   "metadata": {},
   "outputs": [
    {
     "data": {
      "image/png": "[encoded data removed]",
      "text/plain": [
       "<Figure size 432x288 with 1 Axes>"
      ]
     },
     "metadata": {
      "needs_background": "light"
     },
     "output_type": "display_data"
    }
   ],
   "source": [
    "# plt.plot(X_test[0])\n",
    "plt.plot(Y_test[0])\n",
    "plt.plot(prediction[0])\n",
    "plt.show()"
   ]
  },
  {
   "cell_type": "code",
   "execution_count": 60,
   "id": "882ff609-f79f-4600-9d97-c2a6c4273f1f",
   "metadata": {},
   "outputs": [
    {
     "ename": "TypeError",
     "evalue": "Invalid shape (201,) for image data",
     "output_type": "error",
     "traceback": [
      "\u001b[1;31m---------------------------------------------------------------------------\u001b[0m",
      "\u001b[1;31mTypeError\u001b[0m                                 Traceback (most recent call last)",
      "Input \u001b[1;32mIn [60]\u001b[0m, in \u001b[0;36m<module>\u001b[1;34m\u001b[0m\n\u001b[1;32m----> 1\u001b[0m \u001b[43mplt\u001b[49m\u001b[38;5;241;43m.\u001b[39;49m\u001b[43mimshow\u001b[49m\u001b[43m(\u001b[49m\u001b[43mX_test\u001b[49m\u001b[43m[\u001b[49m\u001b[38;5;241;43m0\u001b[39;49m\u001b[43m]\u001b[49m\u001b[43m,\u001b[49m\u001b[43m \u001b[49m\u001b[43mcmap\u001b[49m\u001b[38;5;241;43m=\u001b[39;49m\u001b[38;5;124;43m'\u001b[39;49m\u001b[38;5;124;43mhot\u001b[39;49m\u001b[38;5;124;43m'\u001b[39;49m\u001b[43m,\u001b[49m\u001b[43m \u001b[49m\u001b[43minterpolation\u001b[49m\u001b[38;5;241;43m=\u001b[39;49m\u001b[38;5;124;43m'\u001b[39;49m\u001b[38;5;124;43mnearest\u001b[39;49m\u001b[38;5;124;43m'\u001b[39;49m\u001b[43m)\u001b[49m\n\u001b[0;32m      2\u001b[0m plt\u001b[38;5;241m.\u001b[39mshow()\n",
      "File \u001b[1;32mc:\\users\\dell\\appdata\\local\\programs\\python\\python38\\lib\\site-packages\\matplotlib\\_api\\deprecation.py:456\u001b[0m, in \u001b[0;36mmake_keyword_only.<locals>.wrapper\u001b[1;34m(*args, **kwargs)\u001b[0m\n\u001b[0;32m    450\u001b[0m \u001b[38;5;28;01mif\u001b[39;00m \u001b[38;5;28mlen\u001b[39m(args) \u001b[38;5;241m>\u001b[39m name_idx:\n\u001b[0;32m    451\u001b[0m     warn_deprecated(\n\u001b[0;32m    452\u001b[0m         since, message\u001b[38;5;241m=\u001b[39m\u001b[38;5;124m\"\u001b[39m\u001b[38;5;124mPassing the \u001b[39m\u001b[38;5;132;01m%(name)s\u001b[39;00m\u001b[38;5;124m \u001b[39m\u001b[38;5;132;01m%(obj_type)s\u001b[39;00m\u001b[38;5;124m \u001b[39m\u001b[38;5;124m\"\u001b[39m\n\u001b[0;32m    453\u001b[0m         \u001b[38;5;124m\"\u001b[39m\u001b[38;5;124mpositionally is deprecated since Matplotlib \u001b[39m\u001b[38;5;132;01m%(since)s\u001b[39;00m\u001b[38;5;124m; the \u001b[39m\u001b[38;5;124m\"\u001b[39m\n\u001b[0;32m    454\u001b[0m         \u001b[38;5;124m\"\u001b[39m\u001b[38;5;124mparameter will become keyword-only \u001b[39m\u001b[38;5;132;01m%(removal)s\u001b[39;00m\u001b[38;5;124m.\u001b[39m\u001b[38;5;124m\"\u001b[39m,\n\u001b[0;32m    455\u001b[0m         name\u001b[38;5;241m=\u001b[39mname, obj_type\u001b[38;5;241m=\u001b[39m\u001b[38;5;124mf\u001b[39m\u001b[38;5;124m\"\u001b[39m\u001b[38;5;124mparameter of \u001b[39m\u001b[38;5;132;01m{\u001b[39;00mfunc\u001b[38;5;241m.\u001b[39m\u001b[38;5;18m__name__\u001b[39m\u001b[38;5;132;01m}\u001b[39;00m\u001b[38;5;124m()\u001b[39m\u001b[38;5;124m\"\u001b[39m)\n\u001b[1;32m--> 456\u001b[0m \u001b[38;5;28;01mreturn\u001b[39;00m \u001b[43mfunc\u001b[49m\u001b[43m(\u001b[49m\u001b[38;5;241;43m*\u001b[39;49m\u001b[43margs\u001b[49m\u001b[43m,\u001b[49m\u001b[43m \u001b[49m\u001b[38;5;241;43m*\u001b[39;49m\u001b[38;5;241;43m*\u001b[39;49m\u001b[43mkwargs\u001b[49m\u001b[43m)\u001b[49m\n",
      "File \u001b[1;32mc:\\users\\dell\\appdata\\local\\programs\\python\\python38\\lib\\site-packages\\matplotlib\\pyplot.py:2640\u001b[0m, in \u001b[0;36mimshow\u001b[1;34m(X, cmap, norm, aspect, interpolation, alpha, vmin, vmax, origin, extent, interpolation_stage, filternorm, filterrad, resample, url, data, **kwargs)\u001b[0m\n\u001b[0;32m   2634\u001b[0m \u001b[38;5;129m@_copy_docstring_and_deprecators\u001b[39m(Axes\u001b[38;5;241m.\u001b[39mimshow)\n\u001b[0;32m   2635\u001b[0m \u001b[38;5;28;01mdef\u001b[39;00m \u001b[38;5;21mimshow\u001b[39m(\n\u001b[0;32m   2636\u001b[0m         X, cmap\u001b[38;5;241m=\u001b[39m\u001b[38;5;28;01mNone\u001b[39;00m, norm\u001b[38;5;241m=\u001b[39m\u001b[38;5;28;01mNone\u001b[39;00m, aspect\u001b[38;5;241m=\u001b[39m\u001b[38;5;28;01mNone\u001b[39;00m, interpolation\u001b[38;5;241m=\u001b[39m\u001b[38;5;28;01mNone\u001b[39;00m,\n\u001b[0;32m   2637\u001b[0m         alpha\u001b[38;5;241m=\u001b[39m\u001b[38;5;28;01mNone\u001b[39;00m, vmin\u001b[38;5;241m=\u001b[39m\u001b[38;5;28;01mNone\u001b[39;00m, vmax\u001b[38;5;241m=\u001b[39m\u001b[38;5;28;01mNone\u001b[39;00m, origin\u001b[38;5;241m=\u001b[39m\u001b[38;5;28;01mNone\u001b[39;00m, extent\u001b[38;5;241m=\u001b[39m\u001b[38;5;28;01mNone\u001b[39;00m, \u001b[38;5;241m*\u001b[39m,\n\u001b[0;32m   2638\u001b[0m         interpolation_stage\u001b[38;5;241m=\u001b[39m\u001b[38;5;28;01mNone\u001b[39;00m, filternorm\u001b[38;5;241m=\u001b[39m\u001b[38;5;28;01mTrue\u001b[39;00m, filterrad\u001b[38;5;241m=\u001b[39m\u001b[38;5;241m4.0\u001b[39m,\n\u001b[0;32m   2639\u001b[0m         resample\u001b[38;5;241m=\u001b[39m\u001b[38;5;28;01mNone\u001b[39;00m, url\u001b[38;5;241m=\u001b[39m\u001b[38;5;28;01mNone\u001b[39;00m, data\u001b[38;5;241m=\u001b[39m\u001b[38;5;28;01mNone\u001b[39;00m, \u001b[38;5;241m*\u001b[39m\u001b[38;5;241m*\u001b[39mkwargs):\n\u001b[1;32m-> 2640\u001b[0m     __ret \u001b[38;5;241m=\u001b[39m \u001b[43mgca\u001b[49m\u001b[43m(\u001b[49m\u001b[43m)\u001b[49m\u001b[38;5;241;43m.\u001b[39;49m\u001b[43mimshow\u001b[49m\u001b[43m(\u001b[49m\n\u001b[0;32m   2641\u001b[0m \u001b[43m        \u001b[49m\u001b[43mX\u001b[49m\u001b[43m,\u001b[49m\u001b[43m \u001b[49m\u001b[43mcmap\u001b[49m\u001b[38;5;241;43m=\u001b[39;49m\u001b[43mcmap\u001b[49m\u001b[43m,\u001b[49m\u001b[43m \u001b[49m\u001b[43mnorm\u001b[49m\u001b[38;5;241;43m=\u001b[39;49m\u001b[43mnorm\u001b[49m\u001b[43m,\u001b[49m\u001b[43m \u001b[49m\u001b[43maspect\u001b[49m\u001b[38;5;241;43m=\u001b[39;49m\u001b[43maspect\u001b[49m\u001b[43m,\u001b[49m\n\u001b[0;32m   2642\u001b[0m \u001b[43m        \u001b[49m\u001b[43minterpolation\u001b[49m\u001b[38;5;241;43m=\u001b[39;49m\u001b[43minterpolation\u001b[49m\u001b[43m,\u001b[49m\u001b[43m \u001b[49m\u001b[43malpha\u001b[49m\u001b[38;5;241;43m=\u001b[39;49m\u001b[43malpha\u001b[49m\u001b[43m,\u001b[49m\u001b[43m \u001b[49m\u001b[43mvmin\u001b[49m\u001b[38;5;241;43m=\u001b[39;49m\u001b[43mvmin\u001b[49m\u001b[43m,\u001b[49m\n\u001b[0;32m   2643\u001b[0m \u001b[43m        \u001b[49m\u001b[43mvmax\u001b[49m\u001b[38;5;241;43m=\u001b[39;49m\u001b[43mvmax\u001b[49m\u001b[43m,\u001b[49m\u001b[43m \u001b[49m\u001b[43morigin\u001b[49m\u001b[38;5;241;43m=\u001b[39;49m\u001b[43morigin\u001b[49m\u001b[43m,\u001b[49m\u001b[43m \u001b[49m\u001b[43mextent\u001b[49m\u001b[38;5;241;43m=\u001b[39;49m\u001b[43mextent\u001b[49m\u001b[43m,\u001b[49m\n\u001b[0;32m   2644\u001b[0m \u001b[43m        \u001b[49m\u001b[43minterpolation_stage\u001b[49m\u001b[38;5;241;43m=\u001b[39;49m\u001b[43minterpolation_stage\u001b[49m\u001b[43m,\u001b[49m\n\u001b[0;32m   2645\u001b[0m \u001b[43m        \u001b[49m\u001b[43mfilternorm\u001b[49m\u001b[38;5;241;43m=\u001b[39;49m\u001b[43mfilternorm\u001b[49m\u001b[43m,\u001b[49m\u001b[43m \u001b[49m\u001b[43mfilterrad\u001b[49m\u001b[38;5;241;43m=\u001b[39;49m\u001b[43mfilterrad\u001b[49m\u001b[43m,\u001b[49m\u001b[43m \u001b[49m\u001b[43mresample\u001b[49m\u001b[38;5;241;43m=\u001b[39;49m\u001b[43mresample\u001b[49m\u001b[43m,\u001b[49m\n\u001b[0;32m   2646\u001b[0m \u001b[43m        \u001b[49m\u001b[43murl\u001b[49m\u001b[38;5;241;43m=\u001b[39;49m\u001b[43murl\u001b[49m\u001b[43m,\u001b[49m\u001b[43m \u001b[49m\u001b[38;5;241;43m*\u001b[39;49m\u001b[38;5;241;43m*\u001b[39;49m\u001b[43m(\u001b[49m\u001b[43m{\u001b[49m\u001b[38;5;124;43m\"\u001b[39;49m\u001b[38;5;124;43mdata\u001b[39;49m\u001b[38;5;124;43m\"\u001b[39;49m\u001b[43m:\u001b[49m\u001b[43m \u001b[49m\u001b[43mdata\u001b[49m\u001b[43m}\u001b[49m\u001b[43m \u001b[49m\u001b[38;5;28;43;01mif\u001b[39;49;00m\u001b[43m \u001b[49m\u001b[43mdata\u001b[49m\u001b[43m \u001b[49m\u001b[38;5;129;43;01mis\u001b[39;49;00m\u001b[43m \u001b[49m\u001b[38;5;129;43;01mnot\u001b[39;49;00m\u001b[43m \u001b[49m\u001b[38;5;28;43;01mNone\u001b[39;49;00m\u001b[43m \u001b[49m\u001b[38;5;28;43;01melse\u001b[39;49;00m\u001b[43m \u001b[49m\u001b[43m{\u001b[49m\u001b[43m}\u001b[49m\u001b[43m)\u001b[49m\u001b[43m,\u001b[49m\n\u001b[0;32m   2647\u001b[0m \u001b[43m        \u001b[49m\u001b[38;5;241;43m*\u001b[39;49m\u001b[38;5;241;43m*\u001b[39;49m\u001b[43mkwargs\u001b[49m\u001b[43m)\u001b[49m\n\u001b[0;32m   2648\u001b[0m     sci(__ret)\n\u001b[0;32m   2649\u001b[0m     \u001b[38;5;28;01mreturn\u001b[39;00m __ret\n",
      "File \u001b[1;32mc:\\users\\dell\\appdata\\local\\programs\\python\\python38\\lib\\site-packages\\matplotlib\\_api\\deprecation.py:456\u001b[0m, in \u001b[0;36mmake_keyword_only.<locals>.wrapper\u001b[1;34m(*args, **kwargs)\u001b[0m\n\u001b[0;32m    450\u001b[0m \u001b[38;5;28;01mif\u001b[39;00m \u001b[38;5;28mlen\u001b[39m(args) \u001b[38;5;241m>\u001b[39m name_idx:\n\u001b[0;32m    451\u001b[0m     warn_deprecated(\n\u001b[0;32m    452\u001b[0m         since, message\u001b[38;5;241m=\u001b[39m\u001b[38;5;124m\"\u001b[39m\u001b[38;5;124mPassing the \u001b[39m\u001b[38;5;132;01m%(name)s\u001b[39;00m\u001b[38;5;124m \u001b[39m\u001b[38;5;132;01m%(obj_type)s\u001b[39;00m\u001b[38;5;124m \u001b[39m\u001b[38;5;124m\"\u001b[39m\n\u001b[0;32m    453\u001b[0m         \u001b[38;5;124m\"\u001b[39m\u001b[38;5;124mpositionally is deprecated since Matplotlib \u001b[39m\u001b[38;5;132;01m%(since)s\u001b[39;00m\u001b[38;5;124m; the \u001b[39m\u001b[38;5;124m\"\u001b[39m\n\u001b[0;32m    454\u001b[0m         \u001b[38;5;124m\"\u001b[39m\u001b[38;5;124mparameter will become keyword-only \u001b[39m\u001b[38;5;132;01m%(removal)s\u001b[39;00m\u001b[38;5;124m.\u001b[39m\u001b[38;5;124m\"\u001b[39m,\n\u001b[0;32m    455\u001b[0m         name\u001b[38;5;241m=\u001b[39mname, obj_type\u001b[38;5;241m=\u001b[39m\u001b[38;5;124mf\u001b[39m\u001b[38;5;124m\"\u001b[39m\u001b[38;5;124mparameter of \u001b[39m\u001b[38;5;132;01m{\u001b[39;00mfunc\u001b[38;5;241m.\u001b[39m\u001b[38;5;18m__name__\u001b[39m\u001b[38;5;132;01m}\u001b[39;00m\u001b[38;5;124m()\u001b[39m\u001b[38;5;124m\"\u001b[39m)\n\u001b[1;32m--> 456\u001b[0m \u001b[38;5;28;01mreturn\u001b[39;00m \u001b[43mfunc\u001b[49m\u001b[43m(\u001b[49m\u001b[38;5;241;43m*\u001b[39;49m\u001b[43margs\u001b[49m\u001b[43m,\u001b[49m\u001b[43m \u001b[49m\u001b[38;5;241;43m*\u001b[39;49m\u001b[38;5;241;43m*\u001b[39;49m\u001b[43mkwargs\u001b[49m\u001b[43m)\u001b[49m\n",
      "File \u001b[1;32mc:\\users\\dell\\appdata\\local\\programs\\python\\python38\\lib\\site-packages\\matplotlib\\__init__.py:1412\u001b[0m, in \u001b[0;36m_preprocess_data.<locals>.inner\u001b[1;34m(ax, data, *args, **kwargs)\u001b[0m\n\u001b[0;32m   1409\u001b[0m \u001b[38;5;129m@functools\u001b[39m\u001b[38;5;241m.\u001b[39mwraps(func)\n\u001b[0;32m   1410\u001b[0m \u001b[38;5;28;01mdef\u001b[39;00m \u001b[38;5;21minner\u001b[39m(ax, \u001b[38;5;241m*\u001b[39margs, data\u001b[38;5;241m=\u001b[39m\u001b[38;5;28;01mNone\u001b[39;00m, \u001b[38;5;241m*\u001b[39m\u001b[38;5;241m*\u001b[39mkwargs):\n\u001b[0;32m   1411\u001b[0m     \u001b[38;5;28;01mif\u001b[39;00m data \u001b[38;5;129;01mis\u001b[39;00m \u001b[38;5;28;01mNone\u001b[39;00m:\n\u001b[1;32m-> 1412\u001b[0m         \u001b[38;5;28;01mreturn\u001b[39;00m \u001b[43mfunc\u001b[49m\u001b[43m(\u001b[49m\u001b[43max\u001b[49m\u001b[43m,\u001b[49m\u001b[43m \u001b[49m\u001b[38;5;241;43m*\u001b[39;49m\u001b[38;5;28;43mmap\u001b[39;49m\u001b[43m(\u001b[49m\u001b[43msanitize_sequence\u001b[49m\u001b[43m,\u001b[49m\u001b[43m \u001b[49m\u001b[43margs\u001b[49m\u001b[43m)\u001b[49m\u001b[43m,\u001b[49m\u001b[43m \u001b[49m\u001b[38;5;241;43m*\u001b[39;49m\u001b[38;5;241;43m*\u001b[39;49m\u001b[43mkwargs\u001b[49m\u001b[43m)\u001b[49m\n\u001b[0;32m   1414\u001b[0m     bound \u001b[38;5;241m=\u001b[39m new_sig\u001b[38;5;241m.\u001b[39mbind(ax, \u001b[38;5;241m*\u001b[39margs, \u001b[38;5;241m*\u001b[39m\u001b[38;5;241m*\u001b[39mkwargs)\n\u001b[0;32m   1415\u001b[0m     auto_label \u001b[38;5;241m=\u001b[39m (bound\u001b[38;5;241m.\u001b[39marguments\u001b[38;5;241m.\u001b[39mget(label_namer)\n\u001b[0;32m   1416\u001b[0m                   \u001b[38;5;129;01mor\u001b[39;00m bound\u001b[38;5;241m.\u001b[39mkwargs\u001b[38;5;241m.\u001b[39mget(label_namer))\n",
      "File \u001b[1;32mc:\\users\\dell\\appdata\\local\\programs\\python\\python38\\lib\\site-packages\\matplotlib\\axes\\_axes.py:5488\u001b[0m, in \u001b[0;36mAxes.imshow\u001b[1;34m(self, X, cmap, norm, aspect, interpolation, alpha, vmin, vmax, origin, extent, interpolation_stage, filternorm, filterrad, resample, url, **kwargs)\u001b[0m\n\u001b[0;32m   5481\u001b[0m \u001b[38;5;28mself\u001b[39m\u001b[38;5;241m.\u001b[39mset_aspect(aspect)\n\u001b[0;32m   5482\u001b[0m im \u001b[38;5;241m=\u001b[39m mimage\u001b[38;5;241m.\u001b[39mAxesImage(\u001b[38;5;28mself\u001b[39m, cmap, norm, interpolation,\n\u001b[0;32m   5483\u001b[0m                       origin, extent, filternorm\u001b[38;5;241m=\u001b[39mfilternorm,\n\u001b[0;32m   5484\u001b[0m                       filterrad\u001b[38;5;241m=\u001b[39mfilterrad, resample\u001b[38;5;241m=\u001b[39mresample,\n\u001b[0;32m   5485\u001b[0m                       interpolation_stage\u001b[38;5;241m=\u001b[39minterpolation_stage,\n\u001b[0;32m   5486\u001b[0m                       \u001b[38;5;241m*\u001b[39m\u001b[38;5;241m*\u001b[39mkwargs)\n\u001b[1;32m-> 5488\u001b[0m \u001b[43mim\u001b[49m\u001b[38;5;241;43m.\u001b[39;49m\u001b[43mset_data\u001b[49m\u001b[43m(\u001b[49m\u001b[43mX\u001b[49m\u001b[43m)\u001b[49m\n\u001b[0;32m   5489\u001b[0m im\u001b[38;5;241m.\u001b[39mset_alpha(alpha)\n\u001b[0;32m   5490\u001b[0m \u001b[38;5;28;01mif\u001b[39;00m im\u001b[38;5;241m.\u001b[39mget_clip_path() \u001b[38;5;129;01mis\u001b[39;00m \u001b[38;5;28;01mNone\u001b[39;00m:\n\u001b[0;32m   5491\u001b[0m     \u001b[38;5;66;03m# image does not already have clipping set, clip to axes patch\u001b[39;00m\n",
      "File \u001b[1;32mc:\\users\\dell\\appdata\\local\\programs\\python\\python38\\lib\\site-packages\\matplotlib\\image.py:715\u001b[0m, in \u001b[0;36m_ImageBase.set_data\u001b[1;34m(self, A)\u001b[0m\n\u001b[0;32m    711\u001b[0m     \u001b[38;5;28mself\u001b[39m\u001b[38;5;241m.\u001b[39m_A \u001b[38;5;241m=\u001b[39m \u001b[38;5;28mself\u001b[39m\u001b[38;5;241m.\u001b[39m_A[:, :, \u001b[38;5;241m0\u001b[39m]\n\u001b[0;32m    713\u001b[0m \u001b[38;5;28;01mif\u001b[39;00m \u001b[38;5;129;01mnot\u001b[39;00m (\u001b[38;5;28mself\u001b[39m\u001b[38;5;241m.\u001b[39m_A\u001b[38;5;241m.\u001b[39mndim \u001b[38;5;241m==\u001b[39m \u001b[38;5;241m2\u001b[39m\n\u001b[0;32m    714\u001b[0m         \u001b[38;5;129;01mor\u001b[39;00m \u001b[38;5;28mself\u001b[39m\u001b[38;5;241m.\u001b[39m_A\u001b[38;5;241m.\u001b[39mndim \u001b[38;5;241m==\u001b[39m \u001b[38;5;241m3\u001b[39m \u001b[38;5;129;01mand\u001b[39;00m \u001b[38;5;28mself\u001b[39m\u001b[38;5;241m.\u001b[39m_A\u001b[38;5;241m.\u001b[39mshape[\u001b[38;5;241m-\u001b[39m\u001b[38;5;241m1\u001b[39m] \u001b[38;5;129;01min\u001b[39;00m [\u001b[38;5;241m3\u001b[39m, \u001b[38;5;241m4\u001b[39m]):\n\u001b[1;32m--> 715\u001b[0m     \u001b[38;5;28;01mraise\u001b[39;00m \u001b[38;5;167;01mTypeError\u001b[39;00m(\u001b[38;5;124m\"\u001b[39m\u001b[38;5;124mInvalid shape \u001b[39m\u001b[38;5;132;01m{}\u001b[39;00m\u001b[38;5;124m for image data\u001b[39m\u001b[38;5;124m\"\u001b[39m\n\u001b[0;32m    716\u001b[0m                     \u001b[38;5;241m.\u001b[39mformat(\u001b[38;5;28mself\u001b[39m\u001b[38;5;241m.\u001b[39m_A\u001b[38;5;241m.\u001b[39mshape))\n\u001b[0;32m    718\u001b[0m \u001b[38;5;28;01mif\u001b[39;00m \u001b[38;5;28mself\u001b[39m\u001b[38;5;241m.\u001b[39m_A\u001b[38;5;241m.\u001b[39mndim \u001b[38;5;241m==\u001b[39m \u001b[38;5;241m3\u001b[39m:\n\u001b[0;32m    719\u001b[0m     \u001b[38;5;66;03m# If the input data has values outside the valid range (after\u001b[39;00m\n\u001b[0;32m    720\u001b[0m     \u001b[38;5;66;03m# normalisation), we issue a warning and then clip X to the bounds\u001b[39;00m\n\u001b[0;32m    721\u001b[0m     \u001b[38;5;66;03m# - otherwise casting wraps extreme values, hiding outliers and\u001b[39;00m\n\u001b[0;32m    722\u001b[0m     \u001b[38;5;66;03m# making reliable interpretation impossible.\u001b[39;00m\n\u001b[0;32m    723\u001b[0m     high \u001b[38;5;241m=\u001b[39m \u001b[38;5;241m255\u001b[39m \u001b[38;5;28;01mif\u001b[39;00m np\u001b[38;5;241m.\u001b[39missubdtype(\u001b[38;5;28mself\u001b[39m\u001b[38;5;241m.\u001b[39m_A\u001b[38;5;241m.\u001b[39mdtype, np\u001b[38;5;241m.\u001b[39minteger) \u001b[38;5;28;01melse\u001b[39;00m \u001b[38;5;241m1\u001b[39m\n",
      "\u001b[1;31mTypeError\u001b[0m: Invalid shape (201,) for image data"
     ]
    },
    {
     "data": {
      "image/png": "[encoded data removed]",
      "text/plain": [
       "<Figure size 432x288 with 1 Axes>"
      ]
     },
     "metadata": {
      "needs_background": "light"
     },
     "output_type": "display_data"
    }
   ],
   "source": [
    "plt.imshow(X_test[0], cmap='hot', interpolation='nearest')\n",
    "plt.show()"
   ]
  },
  {
   "cell_type": "code",
   "execution_count": null,
   "id": "0ea4d991-64cd-4633-9216-5d777532fe64",
   "metadata": {},
   "outputs": [],
   "source": [
    "plt.imshow(height_data_train[0], cmap='hot', interpolation='nearest')\n",
    "plt.show()"
   ]
  },
  {
   "cell_type": "code",
   "execution_count": null,
   "id": "c87f92d9-a955-4c1e-a576-a775650719f8",
   "metadata": {},
   "outputs": [],
   "source": [
    "plt.imshow(temp_data_train[200], cmap='hot', interpolation='nearest')\n",
    "plt.show()"
   ]
  },
  {
   "cell_type": "code",
   "execution_count": null,
   "id": "c498255d-028d-45c9-8f4e-b78329cfeb21",
   "metadata": {},
   "outputs": [],
   "source": [
    "plt.imshow(height_data_train[200], cmap='hot', interpolation='nearest')\n",
    "plt.show()"
   ]
  },
  {
   "cell_type": "code",
   "execution_count": null,
   "id": "d79dcd8f-d9c6-41df-9302-d9c3cd3d408f",
   "metadata": {},
   "outputs": [],
   "source": [
    "epochs = 20"
   ]
  },
  {
   "cell_type": "code",
   "execution_count": null,
   "id": "b5fe5662-4697-48a3-8f95-6c1ae2c97c19",
   "metadata": {},
   "outputs": [],
   "source": [
    "rsfwalters\n"
   ]
  }
 ],
 "metadata": {
  "kernelspec": {
   "display_name": "Python 3 (ipykernel)",
   "language": "python",
   "name": "python3"
  },
  "language_info": {
   "codemirror_mode": {
    "name": "ipython",
    "version": 3
   },
   "file_extension": ".py",
   "mimetype": "text/x-python",
   "name": "python",
   "nbconvert_exporter": "python",
   "pygments_lexer": "ipython3",
   "version": "3.8.3rc1"
  }
 },
 "nbformat": 4,
 "nbformat_minor": 5
}
