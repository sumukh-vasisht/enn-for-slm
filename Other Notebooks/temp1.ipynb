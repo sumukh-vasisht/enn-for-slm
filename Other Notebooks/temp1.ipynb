{
 "cells": [
  {
   "cell_type": "code",
   "execution_count": 1,
   "id": "5ed35233-ab5d-4231-8a1e-4a23b1cd534c",
   "metadata": {},
   "outputs": [],
   "source": [
    "import matplotlib.pyplot as plt\n",
    "from sklearn.preprocessing import LabelEncoder \n",
    "import os\n",
    "from tensorflow import keras\n",
    "import random\n",
    "from keras.callbacks import EarlyStopping\n",
    "from sklearn.model_selection import train_test_split\n",
    "\n",
    "import numpy as np\n",
    "import pandas as pd\n",
    "import keras"
   ]
  },
  {
   "cell_type": "code",
   "execution_count": 5,
   "id": "35be0f4e-e932-4b8c-820c-f4b7356a6c57",
   "metadata": {},
   "outputs": [],
   "source": [
    "import torch\n",
    "import torchvision.transforms.functional as TF\n",
    "import torch.nn as nn"
   ]
  },
  {
   "cell_type": "code",
   "execution_count": 2,
   "id": "6e37b9a0-8727-42b3-8f06-778b4bdd2a03",
   "metadata": {},
   "outputs": [],
   "source": [
    "temperature_data_path = 'data/temperature/'\n",
    "height_data_path = 'data/height/'\n",
    "\n",
    "temperature_files = os.listdir(temperature_data_path)\n",
    "height_files = os.listdir(height_data_path)"
   ]
  },
  {
   "cell_type": "code",
   "execution_count": 3,
   "id": "b7c48c9a-9e4a-44cb-9466-31ba9fcd36f4",
   "metadata": {},
   "outputs": [],
   "source": [
    "temperature_data = []\n",
    "height_data = []\n",
    "\n",
    "for temperature_file in temperature_files:\n",
    "    file_path = temperature_data_path + temperature_file\n",
    "    data = pd.read_csv(file_path)\n",
    "    temperature_data.append(data)\n",
    "    \n",
    "for height_file in height_files:\n",
    "    file_path = height_data_path + height_file\n",
    "    data = pd.read_csv(file_path)\n",
    "    height_data.append(data)"
   ]
  },
  {
   "cell_type": "code",
   "execution_count": 42,
   "id": "af0ef263-fa77-4422-b2ab-7f38cd31fc04",
   "metadata": {},
   "outputs": [],
   "source": [
    "temp_data_train = np.array(temperature_data[:1600])\n",
    "temp_data_val = np.array(temperature_data[1600:1900])\n",
    "temp_data_test = np.array(temperature_data[1900:])\n",
    "\n",
    "height_data_train = np.array(height_data[:1600])\n",
    "height_data_val = np.array(height_data[1600:1900])\n",
    "height_data_test = np.array(height_data[1900:])"
   ]
  },
  {
   "cell_type": "code",
   "execution_count": 4,
   "id": "56fe6d90-9e34-4397-8f5a-fab75ecc96af",
   "metadata": {},
   "outputs": [],
   "source": [
    "temperature_data_new = np.array(temperature_data)\n",
    "height_data_new = np.array(height_data)"
   ]
  },
  {
   "cell_type": "code",
   "execution_count": 31,
   "id": "d624afed-1f77-4dcb-975f-309ea93d7ee2",
   "metadata": {},
   "outputs": [],
   "source": [
    "class DoubleConv(nn.Module):\n",
    "    def __init__(self, in_channels, out_channels):\n",
    "        super(DoubleConv, self).__init__()\n",
    "        self.conv = nn.Sequential(\n",
    "            nn.Conv2d(in_channels, out_channels, 3, 1, 1, bias=False),\n",
    "            nn.BatchNorm2d(out_channels),\n",
    "            nn.ReLU(inplace=True),\n",
    "            nn.Conv2d(out_channels, out_channels, 3, 1, 1, bias=False),\n",
    "            nn.BatchNorm2d(out_channels),\n",
    "            nn.ReLU(inplace=True),\n",
    "        )\n",
    "\n",
    "    def forward(self, x):\n",
    "        return self.conv(x)"
   ]
  },
  {
   "cell_type": "code",
   "execution_count": 37,
   "id": "dcb7f062-a304-442e-b0bc-b03e317ebd40",
   "metadata": {},
   "outputs": [],
   "source": [
    "class UNET(nn.Module):\n",
    "    def __init__(\n",
    "            self, in_channels=1, out_channels=1, features=[64, 128, 256, 512],  # TRY IN CHANNELS = 1\n",
    "    ):\n",
    "        super(UNET, self).__init__()\n",
    "        self.ups = nn.ModuleList()\n",
    "        self.downs = nn.ModuleList()\n",
    "        self.pool = nn.MaxPool2d(kernel_size=2, stride=2)\n",
    "\n",
    "        # Down part of UNET\n",
    "        for feature in features:\n",
    "            self.downs.append(DoubleConv(in_channels, feature))\n",
    "            in_channels = feature\n",
    "\n",
    "        # Up part of UNET\n",
    "        for feature in reversed(features):\n",
    "            self.ups.append(\n",
    "                nn.ConvTranspose2d(\n",
    "                    feature*2, feature, kernel_size=2, stride=2,\n",
    "                )\n",
    "            )\n",
    "            self.ups.append(DoubleConv(feature*2, feature))\n",
    "\n",
    "        self.bottleneck = DoubleConv(features[-1], features[-1]*2)\n",
    "        self.final_conv = nn.Conv2d(features[0], out_channels, kernel_size=1)\n",
    "\n",
    "    def forward(self, x):\n",
    "        skip_connections = []\n",
    "\n",
    "        for down in self.downs:\n",
    "            x = down(x)\n",
    "            skip_connections.append(x)\n",
    "            x = self.pool(x)\n",
    "\n",
    "        x = self.bottleneck(x)\n",
    "        skip_connections = skip_connections[::-1]\n",
    "\n",
    "        for idx in range(0, len(self.ups), 2):\n",
    "            x = self.ups[idx](x)\n",
    "            skip_connection = skip_connections[idx//2]\n",
    "\n",
    "            if x.shape != skip_connection.shape:\n",
    "                x = TF.resize(x, size=skip_connection.shape[2:])\n",
    "\n",
    "            concat_skip = torch.cat((skip_connection, x), dim=1)\n",
    "            x = self.ups[idx+1](concat_skip)\n",
    "\n",
    "        return self.final_conv(x)"
   ]
  },
  {
   "cell_type": "code",
   "execution_count": 40,
   "id": "a585d449-a124-4fe3-8976-f222ed062b15",
   "metadata": {},
   "outputs": [],
   "source": [
    "def test():\n",
    "    x = torch.randn((3, 1, 200, 201))\n",
    "    model = UNET(in_channels=1, out_channels=1)\n",
    "    preds = model(x)\n",
    "    print(preds.shape)\n",
    "    print(x.shape)\n",
    "    assert preds.shape == x.shape"
   ]
  },
  {
   "cell_type": "code",
   "execution_count": 41,
   "id": "12d6b191-7376-489c-9478-e7b3f8ebe208",
   "metadata": {},
   "outputs": [
    {
     "name": "stdout",
     "output_type": "stream",
     "text": [
      "torch.Size([3, 1, 200, 201])\n",
      "torch.Size([3, 1, 200, 201])\n"
     ]
    }
   ],
   "source": [
    "if __name__ == \"__main__\":\n",
    "    test()"
   ]
  },
  {
   "cell_type": "code",
   "execution_count": null,
   "id": "05c0736d-a408-4ab5-95a5-2206a94263ff",
   "metadata": {},
   "outputs": [],
   "source": []
  }
 ],
 "metadata": {
  "kernelspec": {
   "display_name": "Python 3 (ipykernel)",
   "language": "python",
   "name": "python3"
  },
  "language_info": {
   "codemirror_mode": {
    "name": "ipython",
    "version": 3
   },
   "file_extension": ".py",
   "mimetype": "text/x-python",
   "name": "python",
   "nbconvert_exporter": "python",
   "pygments_lexer": "ipython3",
   "version": "3.8.3rc1"
  }
 },
 "nbformat": 4,
 "nbformat_minor": 5
}
