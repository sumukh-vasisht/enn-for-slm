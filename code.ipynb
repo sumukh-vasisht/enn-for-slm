{
 "cells": [
  {
   "cell_type": "markdown",
   "id": "5b16fc58-49c1-4bd1-86db-87ac1b834f12",
   "metadata": {},
   "source": [
    "<h2>READ TENSORS<h2>"
   ]
  },
  {
   "cell_type": "code",
   "execution_count": 1,
   "id": "2934375c-61dc-4a4a-a787-d4a68779a8a7",
   "metadata": {},
   "outputs": [],
   "source": [
    "import tensorflow as tf\n",
    "import numpy as np\n",
    "import os\n",
    "import pandas as pd\n",
    "import pickle\n",
    "import torch\n",
    "from tqdm import tqdm\n",
    "import matplotlib.pyplot as plt\n",
    "from statistics import mean\n",
    "from sklearn.model_selection import train_test_split\n",
    "from torch.utils.data import Dataset, DataLoader\n",
    "from torch import optim\n",
    "from torch import nn\n",
    "import itertools\n",
    "import torch.nn.functional as F\n",
    "\n",
    "from tensorflow import keras\n",
    "import random\n",
    "from keras.callbacks import EarlyStopping\n",
    "from sklearn.model_selection import train_test_split\n",
    "from tensorflow.keras import optimizers\n",
    "from torch.utils.data import random_split\n",
    "import time\n",
    "from sklearn.model_selection import KFold"
   ]
  },
  {
   "cell_type": "code",
   "execution_count": 2,
   "id": "5dd97b89-0487-4243-9d88-0e8329ac42b4",
   "metadata": {},
   "outputs": [],
   "source": [
    "temperature_tensor = torch.load('temperature_tensor_v1.pt')\n",
    "height_tensor = torch.load('height_tensor_v1.pt')"
   ]
  },
  {
   "cell_type": "markdown",
   "id": "1b1c791d-f848-42b7-a7fd-8d7435a92cab",
   "metadata": {},
   "source": [
    "<h2>Data Normalization<h2>"
   ]
  },
  {
   "cell_type": "code",
   "execution_count": 3,
   "id": "a0e4b52f-5ff3-4fd8-81e5-94d444f05d4b",
   "metadata": {},
   "outputs": [],
   "source": [
    "# normalized_temperatures = temperature_tensor.numpy()\n",
    "# normalized_heights = height_tensor.numpy()\n",
    "\n",
    "# normalized_t = []\n",
    "# for temperature in normalized_temperatures:\n",
    "#     norm = [float(i)/sum(temperature[0]) for i in temperature[0]]\n",
    "#     normalized_t.append([norm])\n",
    "# normalized_t = np.array(normalized_t)\n",
    "# normalized_t_tensor = torch.from_numpy(normalized_t).float()\n",
    "    \n",
    "# normalized_h = []\n",
    "# for height in normalized_heights:\n",
    "#     norm = [float(i)/sum(height[0]) for i in height[0]]\n",
    "#     normalized_h.append([norm])\n",
    "# normalized_h = np.array(normalized_h)\n",
    "# normalized_h_tensor = torch.from_numpy(normalized_h).float()"
   ]
  },
  {
   "cell_type": "code",
   "execution_count": 4,
   "id": "eb680cec-379c-48c5-b960-760a7392a875",
   "metadata": {},
   "outputs": [],
   "source": [
    "t_mean = temperature_tensor.mean()\n",
    "t_std = temperature_tensor.std()\n",
    "\n",
    "normalized_t_tensor = ((temperature_tensor - t_mean)/t_std)[:,0:1,:].float()\n",
    "\n",
    "h_mean = temperature_tensor.mean()\n",
    "h_std = temperature_tensor.std()\n",
    "\n",
    "normalized_h_tensor = ((temperature_tensor - t_mean)/t_std)[:,0:1,:].float()\n"
   ]
  },
  {
   "cell_type": "code",
   "execution_count": 5,
   "id": "8a6b340b-e4cb-4041-8fc6-f10bc2f2946f",
   "metadata": {},
   "outputs": [
    {
     "name": "stdout",
     "output_type": "stream",
     "text": [
      "2.697111e-08\n",
      "0.9999998\n"
     ]
    },
    {
     "data": {
      "image/png": "[encoded data removed]",
      "text/plain": [
       "<Figure size 432x288 with 1 Axes>"
      ]
     },
     "metadata": {
      "needs_background": "light"
     },
     "output_type": "display_data"
    }
   ],
   "source": [
    "data = normalized_h_tensor.numpy()\n",
    "\n",
    "plt.hist(data.flatten())\n",
    "print(data.mean())\n",
    "print(data.std())"
   ]
  },
  {
   "cell_type": "markdown",
   "id": "bcdf0847-46e4-4ec7-ad98-7a82638a3722",
   "metadata": {},
   "source": [
    "<h2>CNN<h2>"
   ]
  },
  {
   "cell_type": "code",
   "execution_count": 6,
   "id": "0f108662-5530-4267-b3d8-99b5972ab24a",
   "metadata": {},
   "outputs": [],
   "source": [
    "num_epochs = 60\n",
    "learning_rate = 0.001\n",
    "\n",
    "class ConvNet(nn.Module):\n",
    "    def __init__(self):\n",
    "        super(ConvNet, self).__init__()\n",
    "        self.layer1 = nn.Sequential(\n",
    "            nn.Conv1d(1, 60, kernel_size=19, stride=1, padding=9),\n",
    "            nn.ReLU())\n",
    "        self.layer4 = nn.Sequential(\n",
    "            nn.Conv1d(60, 1, kernel_size=19, stride=1, padding=9),\n",
    "            # nn.ReLU()\n",
    "        )\n",
    "\n",
    "    def forward(self, x):\n",
    "        out = self.layer1(x)\n",
    "        out = self.layer4(out)\n",
    "        return out  "
   ]
  },
  {
   "cell_type": "code",
   "execution_count": 7,
   "id": "81324910-71c6-48d6-b677-e7f654d6982a",
   "metadata": {},
   "outputs": [],
   "source": [
    "model = ConvNet() \n",
    "criterion = nn.MSELoss()\n",
    "optimizer = torch.optim.Adam(model.parameters(), lr=learning_rate)"
   ]
  },
  {
   "cell_type": "code",
   "execution_count": 8,
   "id": "439b4705-15d2-4214-be9b-2140d3b104d6",
   "metadata": {
    "tags": []
   },
   "outputs": [
    {
     "name": "stdout",
     "output_type": "stream",
     "text": [
      "tensor([[-0.4333, -0.4333, -0.4333,  ..., -0.4333, -0.4333, -0.4333],\n",
      "        [-0.4333, -0.4333, -0.4333,  ..., -0.4333, -0.4333, -0.4333],\n",
      "        [-0.4333, -0.4333, -0.4333,  ..., -0.4333, -0.4333, -0.4333],\n",
      "        ...,\n",
      "        [-0.4333, -0.4333, -0.4333,  ..., -0.4333, -0.4333, -0.4333],\n",
      "        [-0.4333, -0.4333, -0.4333,  ..., -0.4333, -0.4333, -0.4333],\n",
      "        [-0.4333, -0.4333, -0.4333,  ..., -0.4333, -0.4333, -0.4333]])\n"
     ]
    }
   ],
   "source": [
    "print(normalized_t_tensor.squeeze())"
   ]
  },
  {
   "cell_type": "code",
   "execution_count": 9,
   "id": "17ae36f4-7db8-4c32-947b-64ee1ebe30d0",
   "metadata": {},
   "outputs": [
    {
     "name": "stdout",
     "output_type": "stream",
     "text": [
      "torch.Size([1959, 1, 201])\n"
     ]
    }
   ],
   "source": [
    "print(normalized_h_tensor.shape)"
   ]
  },
  {
   "cell_type": "code",
   "execution_count": 10,
   "id": "59f8476e-2561-4707-bf8b-8396d6ff88a1",
   "metadata": {
    "tags": []
   },
   "outputs": [
    {
     "name": "stderr",
     "output_type": "stream",
     "text": [
      "  2%|█▍                                                                                 | 1/60 [00:03<03:08,  3.19s/it]"
     ]
    },
    {
     "name": "stdout",
     "output_type": "stream",
     "text": [
      "2.1104813\n"
     ]
    },
    {
     "name": "stderr",
     "output_type": "stream",
     "text": [
      "  3%|██▊                                                                                | 2/60 [00:06<02:58,  3.07s/it]"
     ]
    },
    {
     "name": "stdout",
     "output_type": "stream",
     "text": [
      "1.475706\n"
     ]
    },
    {
     "name": "stderr",
     "output_type": "stream",
     "text": [
      "  5%|████▏                                                                              | 3/60 [00:08<02:29,  2.62s/it]"
     ]
    },
    {
     "name": "stdout",
     "output_type": "stream",
     "text": [
      "0.96795756\n"
     ]
    },
    {
     "name": "stderr",
     "output_type": "stream",
     "text": [
      "  7%|█████▌                                                                             | 4/60 [00:10<02:07,  2.28s/it]"
     ]
    },
    {
     "name": "stdout",
     "output_type": "stream",
     "text": [
      "0.581953\n"
     ]
    },
    {
     "name": "stderr",
     "output_type": "stream",
     "text": [
      "  8%|██████▉                                                                            | 5/60 [00:11<01:51,  2.03s/it]"
     ]
    },
    {
     "name": "stdout",
     "output_type": "stream",
     "text": [
      "0.31283036\n"
     ]
    },
    {
     "name": "stderr",
     "output_type": "stream",
     "text": [
      " 10%|████████▎                                                                          | 6/60 [00:13<01:44,  1.93s/it]"
     ]
    },
    {
     "name": "stdout",
     "output_type": "stream",
     "text": [
      "0.15405238\n"
     ]
    },
    {
     "name": "stderr",
     "output_type": "stream",
     "text": [
      " 12%|█████████▋                                                                         | 7/60 [00:16<02:02,  2.31s/it]"
     ]
    },
    {
     "name": "stdout",
     "output_type": "stream",
     "text": [
      "0.09392543\n"
     ]
    },
    {
     "name": "stderr",
     "output_type": "stream",
     "text": [
      " 13%|███████████                                                                        | 8/60 [00:18<01:52,  2.16s/it]"
     ]
    },
    {
     "name": "stdout",
     "output_type": "stream",
     "text": [
      "0.110901654\n"
     ]
    },
    {
     "name": "stderr",
     "output_type": "stream",
     "text": [
      " 15%|████████████▍                                                                      | 9/60 [00:20<01:45,  2.07s/it]"
     ]
    },
    {
     "name": "stdout",
     "output_type": "stream",
     "text": [
      "0.17126584\n"
     ]
    },
    {
     "name": "stderr",
     "output_type": "stream",
     "text": [
      " 17%|█████████████▋                                                                    | 10/60 [00:22<01:41,  2.03s/it]"
     ]
    },
    {
     "name": "stdout",
     "output_type": "stream",
     "text": [
      "0.23646946\n"
     ]
    },
    {
     "name": "stderr",
     "output_type": "stream",
     "text": [
      " 18%|███████████████                                                                   | 11/60 [00:23<01:35,  1.95s/it]"
     ]
    },
    {
     "name": "stdout",
     "output_type": "stream",
     "text": [
      "0.2779653\n"
     ]
    },
    {
     "name": "stderr",
     "output_type": "stream",
     "text": [
      " 20%|████████████████▍                                                                 | 12/60 [00:26<01:46,  2.22s/it]"
     ]
    },
    {
     "name": "stdout",
     "output_type": "stream",
     "text": [
      "0.28458545\n"
     ]
    },
    {
     "name": "stderr",
     "output_type": "stream",
     "text": [
      " 22%|█████████████████▊                                                                | 13/60 [00:28<01:37,  2.08s/it]"
     ]
    },
    {
     "name": "stdout",
     "output_type": "stream",
     "text": [
      "0.25934502\n"
     ]
    },
    {
     "name": "stderr",
     "output_type": "stream",
     "text": [
      " 23%|███████████████████▏                                                              | 14/60 [00:30<01:29,  1.95s/it]"
     ]
    },
    {
     "name": "stdout",
     "output_type": "stream",
     "text": [
      "0.21278447\n"
     ]
    },
    {
     "name": "stderr",
     "output_type": "stream",
     "text": [
      " 25%|████████████████████▌                                                             | 15/60 [00:31<01:21,  1.80s/it]"
     ]
    },
    {
     "name": "stdout",
     "output_type": "stream",
     "text": [
      "0.15735447\n"
     ]
    },
    {
     "name": "stderr",
     "output_type": "stream",
     "text": [
      " 27%|█████████████████████▊                                                            | 16/60 [00:33<01:16,  1.73s/it]"
     ]
    },
    {
     "name": "stdout",
     "output_type": "stream",
     "text": [
      "0.103939764\n"
     ]
    },
    {
     "name": "stderr",
     "output_type": "stream",
     "text": [
      " 28%|███████████████████████▏                                                          | 17/60 [00:34<01:10,  1.64s/it]"
     ]
    },
    {
     "name": "stdout",
     "output_type": "stream",
     "text": [
      "0.06047444\n"
     ]
    },
    {
     "name": "stderr",
     "output_type": "stream",
     "text": [
      " 30%|████████████████████████▌                                                         | 18/60 [00:36<01:10,  1.69s/it]"
     ]
    },
    {
     "name": "stdout",
     "output_type": "stream",
     "text": [
      "0.031045506\n"
     ]
    },
    {
     "name": "stderr",
     "output_type": "stream",
     "text": [
      " 32%|█████████████████████████▉                                                        | 19/60 [00:37<01:05,  1.61s/it]"
     ]
    },
    {
     "name": "stdout",
     "output_type": "stream",
     "text": [
      "0.01626581\n"
     ]
    },
    {
     "name": "stderr",
     "output_type": "stream",
     "text": [
      " 33%|███████████████████████████▎                                                      | 20/60 [00:39<01:02,  1.56s/it]"
     ]
    },
    {
     "name": "stdout",
     "output_type": "stream",
     "text": [
      "0.014236654\n"
     ]
    },
    {
     "name": "stderr",
     "output_type": "stream",
     "text": [
      " 35%|████████████████████████████▋                                                     | 21/60 [00:40<01:00,  1.54s/it]"
     ]
    },
    {
     "name": "stdout",
     "output_type": "stream",
     "text": [
      "0.021416128\n"
     ]
    },
    {
     "name": "stderr",
     "output_type": "stream",
     "text": [
      " 37%|██████████████████████████████                                                    | 22/60 [00:42<00:56,  1.50s/it]"
     ]
    },
    {
     "name": "stdout",
     "output_type": "stream",
     "text": [
      "0.033553302\n"
     ]
    },
    {
     "name": "stderr",
     "output_type": "stream",
     "text": [
      " 38%|███████████████████████████████▍                                                  | 23/60 [00:43<00:55,  1.50s/it]"
     ]
    },
    {
     "name": "stdout",
     "output_type": "stream",
     "text": [
      "0.046513643\n"
     ]
    },
    {
     "name": "stderr",
     "output_type": "stream",
     "text": [
      " 40%|████████████████████████████████▊                                                 | 24/60 [00:45<00:54,  1.51s/it]"
     ]
    },
    {
     "name": "stdout",
     "output_type": "stream",
     "text": [
      "0.057098344\n"
     ]
    },
    {
     "name": "stderr",
     "output_type": "stream",
     "text": [
      " 42%|██████████████████████████████████▏                                               | 25/60 [00:46<00:52,  1.51s/it]"
     ]
    },
    {
     "name": "stdout",
     "output_type": "stream",
     "text": [
      "0.06330515\n"
     ]
    },
    {
     "name": "stderr",
     "output_type": "stream",
     "text": [
      " 43%|███████████████████████████████████▌                                              | 26/60 [00:48<00:51,  1.50s/it]"
     ]
    },
    {
     "name": "stdout",
     "output_type": "stream",
     "text": [
      "0.06441659\n"
     ]
    },
    {
     "name": "stderr",
     "output_type": "stream",
     "text": [
      " 45%|████████████████████████████████████▉                                             | 27/60 [00:49<00:49,  1.49s/it]"
     ]
    },
    {
     "name": "stdout",
     "output_type": "stream",
     "text": [
      "0.06082134\n"
     ]
    },
    {
     "name": "stderr",
     "output_type": "stream",
     "text": [
      " 47%|██████████████████████████████████████▎                                           | 28/60 [00:51<00:47,  1.49s/it]"
     ]
    },
    {
     "name": "stdout",
     "output_type": "stream",
     "text": [
      "0.053634897\n"
     ]
    },
    {
     "name": "stderr",
     "output_type": "stream",
     "text": [
      " 48%|███████████████████████████████████████▋                                          | 29/60 [00:52<00:46,  1.50s/it]"
     ]
    },
    {
     "name": "stdout",
     "output_type": "stream",
     "text": [
      "0.044336263\n"
     ]
    },
    {
     "name": "stderr",
     "output_type": "stream",
     "text": [
      " 50%|█████████████████████████████████████████                                         | 30/60 [00:54<00:45,  1.51s/it]"
     ]
    },
    {
     "name": "stdout",
     "output_type": "stream",
     "text": [
      "0.03445426\n"
     ]
    },
    {
     "name": "stderr",
     "output_type": "stream",
     "text": [
      " 52%|██████████████████████████████████████████▎                                       | 31/60 [00:56<00:48,  1.67s/it]"
     ]
    },
    {
     "name": "stdout",
     "output_type": "stream",
     "text": [
      "0.025332028\n"
     ]
    },
    {
     "name": "stderr",
     "output_type": "stream",
     "text": [
      " 53%|███████████████████████████████████████████▋                                      | 32/60 [00:58<00:53,  1.90s/it]"
     ]
    },
    {
     "name": "stdout",
     "output_type": "stream",
     "text": [
      "0.017968573\n"
     ]
    },
    {
     "name": "stderr",
     "output_type": "stream",
     "text": [
      " 55%|█████████████████████████████████████████████                                     | 33/60 [01:00<00:49,  1.84s/it]"
     ]
    },
    {
     "name": "stdout",
     "output_type": "stream",
     "text": [
      "0.012936449\n"
     ]
    },
    {
     "name": "stderr",
     "output_type": "stream",
     "text": [
      " 57%|██████████████████████████████████████████████▍                                   | 34/60 [01:02<00:54,  2.08s/it]"
     ]
    },
    {
     "name": "stdout",
     "output_type": "stream",
     "text": [
      "0.010361278\n"
     ]
    },
    {
     "name": "stderr",
     "output_type": "stream",
     "text": [
      " 58%|███████████████████████████████████████████████▊                                  | 35/60 [01:06<00:59,  2.39s/it]"
     ]
    },
    {
     "name": "stdout",
     "output_type": "stream",
     "text": [
      "0.0099549685\n"
     ]
    },
    {
     "name": "stderr",
     "output_type": "stream",
     "text": [
      " 60%|█████████████████████████████████████████████████▏                                | 36/60 [01:08<01:00,  2.53s/it]"
     ]
    },
    {
     "name": "stdout",
     "output_type": "stream",
     "text": [
      "0.011123642\n"
     ]
    },
    {
     "name": "stderr",
     "output_type": "stream",
     "text": [
      " 62%|██████████████████████████████████████████████████▌                               | 37/60 [01:11<00:58,  2.53s/it]"
     ]
    },
    {
     "name": "stdout",
     "output_type": "stream",
     "text": [
      "0.013097268\n"
     ]
    },
    {
     "name": "stderr",
     "output_type": "stream",
     "text": [
      " 63%|███████████████████████████████████████████████████▉                              | 38/60 [01:13<00:53,  2.42s/it]"
     ]
    },
    {
     "name": "stdout",
     "output_type": "stream",
     "text": [
      "0.01508976\n"
     ]
    },
    {
     "name": "stderr",
     "output_type": "stream",
     "text": [
      " 65%|█████████████████████████████████████████████████████▎                            | 39/60 [01:15<00:45,  2.17s/it]"
     ]
    },
    {
     "name": "stdout",
     "output_type": "stream",
     "text": [
      "0.01645653\n"
     ]
    },
    {
     "name": "stderr",
     "output_type": "stream",
     "text": [
      " 67%|██████████████████████████████████████████████████████▋                           | 40/60 [01:17<00:43,  2.16s/it]"
     ]
    },
    {
     "name": "stdout",
     "output_type": "stream",
     "text": [
      "0.016808622\n"
     ]
    },
    {
     "name": "stderr",
     "output_type": "stream",
     "text": [
      " 68%|████████████████████████████████████████████████████████                          | 41/60 [01:19<00:38,  2.05s/it]"
     ]
    },
    {
     "name": "stdout",
     "output_type": "stream",
     "text": [
      "0.01605512\n"
     ]
    },
    {
     "name": "stderr",
     "output_type": "stream",
     "text": [
      " 70%|█████████████████████████████████████████████████████████▍                        | 42/60 [01:20<00:33,  1.86s/it]"
     ]
    },
    {
     "name": "stdout",
     "output_type": "stream",
     "text": [
      "0.014375787\n"
     ]
    },
    {
     "name": "stderr",
     "output_type": "stream",
     "text": [
      " 72%|██████████████████████████████████████████████████████████▊                       | 43/60 [01:22<00:30,  1.78s/it]"
     ]
    },
    {
     "name": "stdout",
     "output_type": "stream",
     "text": [
      "0.012135746\n"
     ]
    },
    {
     "name": "stderr",
     "output_type": "stream",
     "text": [
      " 73%|████████████████████████████████████████████████████████████▏                     | 44/60 [01:23<00:27,  1.70s/it]"
     ]
    },
    {
     "name": "stdout",
     "output_type": "stream",
     "text": [
      "0.009775203\n"
     ]
    },
    {
     "name": "stderr",
     "output_type": "stream",
     "text": [
      " 75%|█████████████████████████████████████████████████████████████▌                    | 45/60 [01:25<00:25,  1.70s/it]"
     ]
    },
    {
     "name": "stdout",
     "output_type": "stream",
     "text": [
      "0.0076983967\n"
     ]
    },
    {
     "name": "stderr",
     "output_type": "stream",
     "text": [
      " 77%|██████████████████████████████████████████████████████████████▊                   | 46/60 [01:26<00:23,  1.65s/it]"
     ]
    },
    {
     "name": "stdout",
     "output_type": "stream",
     "text": [
      "0.0061895987\n"
     ]
    },
    {
     "name": "stderr",
     "output_type": "stream",
     "text": [
      " 78%|████████████████████████████████████████████████████████████████▏                 | 47/60 [01:28<00:21,  1.63s/it]"
     ]
    },
    {
     "name": "stdout",
     "output_type": "stream",
     "text": [
      "0.005370024\n"
     ]
    },
    {
     "name": "stderr",
     "output_type": "stream",
     "text": [
      " 80%|█████████████████████████████████████████████████████████████████▌                | 48/60 [01:30<00:19,  1.62s/it]"
     ]
    },
    {
     "name": "stdout",
     "output_type": "stream",
     "text": [
      "0.005199293\n"
     ]
    },
    {
     "name": "stderr",
     "output_type": "stream",
     "text": [
      " 82%|██████████████████████████████████████████████████████████████████▉               | 49/60 [01:31<00:17,  1.60s/it]"
     ]
    },
    {
     "name": "stdout",
     "output_type": "stream",
     "text": [
      "0.005513317\n"
     ]
    },
    {
     "name": "stderr",
     "output_type": "stream",
     "text": [
      " 83%|████████████████████████████████████████████████████████████████████▎             | 50/60 [01:33<00:16,  1.64s/it]"
     ]
    },
    {
     "name": "stdout",
     "output_type": "stream",
     "text": [
      "0.006082436\n"
     ]
    },
    {
     "name": "stderr",
     "output_type": "stream",
     "text": [
      " 85%|█████████████████████████████████████████████████████████████████████▋            | 51/60 [01:34<00:14,  1.62s/it]"
     ]
    },
    {
     "name": "stdout",
     "output_type": "stream",
     "text": [
      "0.006672527\n"
     ]
    },
    {
     "name": "stderr",
     "output_type": "stream",
     "text": [
      " 87%|███████████████████████████████████████████████████████████████████████           | 52/60 [01:36<00:12,  1.62s/it]"
     ]
    },
    {
     "name": "stdout",
     "output_type": "stream",
     "text": [
      "0.007094291\n"
     ]
    },
    {
     "name": "stderr",
     "output_type": "stream",
     "text": [
      " 88%|████████████████████████████████████████████████████████████████████████▍         | 53/60 [01:38<00:11,  1.65s/it]"
     ]
    },
    {
     "name": "stdout",
     "output_type": "stream",
     "text": [
      "0.007233086\n"
     ]
    },
    {
     "name": "stderr",
     "output_type": "stream",
     "text": [
      " 90%|█████████████████████████████████████████████████████████████████████████▊        | 54/60 [01:39<00:09,  1.61s/it]"
     ]
    },
    {
     "name": "stdout",
     "output_type": "stream",
     "text": [
      "0.0070560374\n"
     ]
    },
    {
     "name": "stderr",
     "output_type": "stream",
     "text": [
      " 92%|███████████████████████████████████████████████████████████████████████████▏      | 55/60 [01:41<00:07,  1.58s/it]"
     ]
    },
    {
     "name": "stdout",
     "output_type": "stream",
     "text": [
      "0.0066036535\n"
     ]
    },
    {
     "name": "stderr",
     "output_type": "stream",
     "text": [
      " 93%|████████████████████████████████████████████████████████████████████████████▌     | 56/60 [01:42<00:06,  1.58s/it]"
     ]
    },
    {
     "name": "stdout",
     "output_type": "stream",
     "text": [
      "0.005966403\n"
     ]
    },
    {
     "name": "stderr",
     "output_type": "stream",
     "text": [
      " 95%|█████████████████████████████████████████████████████████████████████████████▉    | 57/60 [01:44<00:04,  1.56s/it]"
     ]
    },
    {
     "name": "stdout",
     "output_type": "stream",
     "text": [
      "0.005257793\n"
     ]
    },
    {
     "name": "stderr",
     "output_type": "stream",
     "text": [
      " 97%|███████████████████████████████████████████████████████████████████████████████▎  | 58/60 [01:45<00:03,  1.56s/it]"
     ]
    },
    {
     "name": "stdout",
     "output_type": "stream",
     "text": [
      "0.004590422\n"
     ]
    },
    {
     "name": "stderr",
     "output_type": "stream",
     "text": [
      " 98%|████████████████████████████████████████████████████████████████████████████████▋ | 59/60 [01:47<00:01,  1.55s/it]"
     ]
    },
    {
     "name": "stdout",
     "output_type": "stream",
     "text": [
      "0.00405498\n"
     ]
    },
    {
     "name": "stderr",
     "output_type": "stream",
     "text": [
      "100%|██████████████████████████████████████████████████████████████████████████████████| 60/60 [01:49<00:00,  1.82s/it]"
     ]
    },
    {
     "name": "stdout",
     "output_type": "stream",
     "text": [
      "0.0037067672\n"
     ]
    },
    {
     "name": "stderr",
     "output_type": "stream",
     "text": [
      "\n"
     ]
    }
   ],
   "source": [
    "losses = []\n",
    "\n",
    "for epoch in tqdm(range(num_epochs)):\n",
    "    outputs = model(normalized_t_tensor)\n",
    "    loss = criterion(outputs, normalized_h_tensor)\n",
    "    \n",
    "    optimizer.zero_grad()\n",
    "    loss.backward()\n",
    "    optimizer.step()\n",
    "    losses.append(loss.data.numpy())\n",
    "    print(loss.data.numpy())"
   ]
  },
  {
   "cell_type": "code",
   "execution_count": 11,
   "id": "ed992a42-5a32-4231-a019-eed07a938541",
   "metadata": {},
   "outputs": [
    {
     "data": {
      "image/png": "[encoded data removed]",
      "text/plain": [
       "<Figure size 432x288 with 1 Axes>"
      ]
     },
     "metadata": {
      "needs_background": "light"
     },
     "output_type": "display_data"
    }
   ],
   "source": [
    "plt.plot(losses)\n",
    "plt.show()"
   ]
  },
  {
   "cell_type": "code",
   "execution_count": 12,
   "id": "efd7cce9-20f1-4594-9963-e51962f9ee8f",
   "metadata": {},
   "outputs": [
    {
     "data": {
      "image/png": "[encoded data removed]",
      "text/plain": [
       "<Figure size 432x288 with 1 Axes>"
      ]
     },
     "metadata": {
      "needs_background": "light"
     },
     "output_type": "display_data"
    }
   ],
   "source": [
    "temp = 200\n",
    "\n",
    "output_1 = model(normalized_t_tensor[temp])\n",
    "output_1 = output_1.detach().numpy()\n",
    "plt.plot(output_1[0], label = 'height_1')\n",
    "\n",
    "# output_2 = model(normalized_t_tensor[250])\n",
    "# output_2 = output_2.detach().numpy()\n",
    "# plt.plot(output_2[0], label = 'height_2')\n",
    "\n",
    "h = normalized_h_tensor[temp].numpy()\n",
    "plt.plot(h[0], label = 'original_height')\n",
    "plt.legend()\n",
    "plt.show()"
   ]
  },
  {
   "cell_type": "code",
   "execution_count": 13,
   "id": "320720ec-63bc-4a64-b4a7-258cc8639c6b",
   "metadata": {},
   "outputs": [
    {
     "data": {
      "image/png": "[encoded data removed]",
      "text/plain": [
       "<Figure size 432x288 with 1 Axes>"
      ]
     },
     "metadata": {
      "needs_background": "light"
     },
     "output_type": "display_data"
    }
   ],
   "source": [
    "temp = 400\n",
    "\n",
    "output_1 = model(normalized_t_tensor[temp])\n",
    "output_1 = output_1.detach().numpy()\n",
    "plt.plot(output_1[0], label = 'height_1')\n",
    "\n",
    "# output_2 = model(normalized_t_tensor[250])\n",
    "# output_2 = output_2.detach().numpy()\n",
    "# plt.plot(output_2[0], label = 'height_2')\n",
    "# plt.show()\n",
    "\n",
    "h = normalized_h_tensor[temp].numpy()\n",
    "plt.plot(h[0], label = 'original_height')\n",
    "plt.legend()\n",
    "plt.show()"
   ]
  },
  {
   "cell_type": "code",
   "execution_count": 14,
   "id": "b712ddd9-225c-4092-bd7d-cf1237d1a711",
   "metadata": {},
   "outputs": [
    {
     "data": {
      "image/png": "[encoded data removed]",
      "text/plain": [
       "<Figure size 432x288 with 1 Axes>"
      ]
     },
     "metadata": {
      "needs_background": "light"
     },
     "output_type": "display_data"
    },
    {
     "data": {
      "image/png": "[encoded data removed]",
      "text/plain": [
       "<Figure size 432x288 with 1 Axes>"
      ]
     },
     "metadata": {
      "needs_background": "light"
     },
     "output_type": "display_data"
    }
   ],
   "source": [
    "h_pred = np.tile(output_1[0], (200, 1))\n",
    "h_orig = np.tile(h[0], (200, 1))\n",
    "\n",
    "plt.imshow(h_orig, cmap='hot', interpolation='nearest')\n",
    "plt.show()\n",
    "plt.imshow(h_pred, cmap='hot', interpolation='nearest')\n",
    "plt.show();"
   ]
  },
  {
   "cell_type": "markdown",
   "id": "ce03bfa0-0d0a-41b7-8312-6e9ed49c4cc3",
   "metadata": {},
   "source": [
    "<h2>Test, Train, Validation Split<h2>"
   ]
  },
  {
   "cell_type": "code",
   "execution_count": 15,
   "id": "4753a44d-0ac0-4127-971a-3f56c1519ca1",
   "metadata": {},
   "outputs": [],
   "source": [
    "seed = 10\n",
    "np.random.seed(seed)"
   ]
  },
  {
   "cell_type": "code",
   "execution_count": 16,
   "id": "76b8261f-96af-4ba1-a9ae-fcb500ea5b46",
   "metadata": {},
   "outputs": [],
   "source": [
    "seed = 7\n",
    "np.random.seed(seed)\n",
    "X_train, X_test, Y_train, Y_test = train_test_split(normalized_t_tensor, normalized_h_tensor, test_size=0.2, random_state=seed, shuffle = True)"
   ]
  },
  {
   "cell_type": "code",
   "execution_count": 17,
   "id": "ccf8bbf5-7710-4c85-a65e-e69c7dfa9064",
   "metadata": {},
   "outputs": [],
   "source": [
    "X_train, X_val, Y_train, Y_val = train_test_split(X_train, Y_train, test_size=0.25, random_state=seed, shuffle = True)\n",
    "trainSteps = len(X_train)\n",
    "valSteps = len(X_val)"
   ]
  },
  {
   "cell_type": "code",
   "execution_count": 18,
   "id": "aa3af958-3a15-4304-946a-af8f2da694c8",
   "metadata": {},
   "outputs": [],
   "source": [
    "H = {\n",
    "    \"train_loss\": [],\n",
    "    \"train_acc\": [],\n",
    "    \"val_loss\": [],\n",
    "    \"val_acc\": []\n",
    "}"
   ]
  },
  {
   "cell_type": "code",
   "execution_count": 19,
   "id": "b308bc29-3fae-4340-906b-ea25e0f4919f",
   "metadata": {},
   "outputs": [],
   "source": [
    "# for (x, y) in zip(X_train[0], Y_train[0]):\n",
    "#     print(x)\n",
    "#     print(y)\n",
    "#     break"
   ]
  },
  {
   "cell_type": "code",
   "execution_count": 20,
   "id": "94f5ef31-9c44-47f5-a54e-32fa778aa106",
   "metadata": {},
   "outputs": [],
   "source": [
    "model = ConvNet() \n",
    "criterion = nn.MSELoss()\n",
    "optimizer = torch.optim.Adam(model.parameters(), lr=learning_rate)"
   ]
  },
  {
   "cell_type": "code",
   "execution_count": 21,
   "id": "6dc1e379-fbb8-45b9-9dd2-57a95de7d6f8",
   "metadata": {
    "tags": []
   },
   "outputs": [
    {
     "name": "stdout",
     "output_type": "stream",
     "text": [
      "[INFO] training the network...\n"
     ]
    },
    {
     "name": "stderr",
     "output_type": "stream",
     "text": [
      "  0%|                                                                                            | 0/1 [00:00<?, ?it/s]"
     ]
    },
    {
     "name": "stdout",
     "output_type": "stream",
     "text": [
      "0\n",
      "10\n",
      "20\n",
      "30\n",
      "40\n",
      "50\n",
      "60\n",
      "70\n",
      "80\n",
      "90\n"
     ]
    },
    {
     "name": "stderr",
     "output_type": "stream",
     "text": [
      "100%|████████████████████████████████████████████████████████████████████████████████████| 1/1 [00:01<00:00,  1.63s/it]"
     ]
    },
    {
     "name": "stdout",
     "output_type": "stream",
     "text": [
      "[INFO] EPOCH: 1/1\n",
      "Train loss: 0.000016\n",
      "\n",
      "Val loss: 0.002776\n",
      "\n",
      "[INFO] total time taken to train the model: 1.64s\n"
     ]
    },
    {
     "name": "stderr",
     "output_type": "stream",
     "text": [
      "\n"
     ]
    }
   ],
   "source": [
    "#LOSS FOR EACH EPOCH\n",
    "num_epochs = 1\n",
    "\n",
    "valLoss = []\n",
    "trainLoss = []\n",
    "\n",
    "device = torch.device(\"cuda\" if torch.cuda.is_available() else \"cpu\")\n",
    "print(\"[INFO] training the network...\")\n",
    "startTime = time.time()\n",
    "\n",
    "for epoch in tqdm(range(num_epochs)):\n",
    "\n",
    "    model.train()\n",
    "\n",
    "    totalTrainLoss = 0\n",
    "    totalValLoss = 0\n",
    "    \n",
    "\n",
    "    for (i,(x, y)) in enumerate(zip(X_train[0:100], Y_train[0:100])):\n",
    "        (x, y) = (x.to(device), y.to(device))\n",
    "        pred = model(x)     \n",
    "        loss = criterion(pred, y)\n",
    "        \n",
    "        optimizer.zero_grad()\n",
    "        loss.backward()\n",
    "        optimizer.step()        \n",
    "        totalTrainLoss += loss\n",
    "        \n",
    "        if (i % 10 == 0): \n",
    "            print(i)\n",
    "            trainLoss.append(totalTrainLoss/10.0)\n",
    "            totalTrainLoss = 0\n",
    "            \n",
    "            with torch.no_grad():\n",
    "                model.eval()\n",
    "\n",
    "                for(x, y) in zip(X_val, Y_val):\n",
    "                    (x, y) = (x.to(device), y.to(device))\n",
    "                    pred = model(x)\n",
    "                    totalValLoss += criterion(pred, y)\n",
    "\n",
    "            avgValLoss = totalValLoss/valSteps\n",
    "\n",
    "            valLoss.append(avgValLoss)\n",
    "            totalValLoss = 0\n",
    "                    \n",
    "    avgTrainLoss = totalTrainLoss/trainSteps\n",
    "    \n",
    "    H['train_loss'].append(avgTrainLoss.cpu().detach().numpy())\n",
    "    H['val_loss'].append(avgValLoss.cpu().detach().numpy())\n",
    "    \n",
    "    print(\"[INFO] EPOCH: {}/{}\".format(epoch + 1, num_epochs))\n",
    "    print(\"Train loss: {:.6f}\\n\".format(avgTrainLoss))\n",
    "    print(\"Val loss: {:.6f}\\n\".format(avgValLoss))\n",
    "    \n",
    "endTime = time.time()\n",
    "print(\"[INFO] total time taken to train the model: {:.2f}s\".format(endTime - startTime))"
   ]
  },
  {
   "cell_type": "code",
   "execution_count": 22,
   "id": "579aa8b5-c9e8-424d-97db-beb171e144e4",
   "metadata": {},
   "outputs": [
    {
     "data": {
      "image/png": "[encoded data removed]",
      "text/plain": [
       "<Figure size 432x288 with 1 Axes>"
      ]
     },
     "metadata": {
      "needs_background": "light"
     },
     "output_type": "display_data"
    }
   ],
   "source": [
    "# print(valLoss)\n",
    "plt.plot(valLoss)\n",
    "plt.plot(torch.tensor(trainLoss).detach())\n",
    "plt.show()"
   ]
  },
  {
   "cell_type": "code",
   "execution_count": 23,
   "id": "42b05b77-5098-4f5d-b608-6e6a6e3763f0",
   "metadata": {},
   "outputs": [],
   "source": [
    "model = ConvNet() \n",
    "criterion = nn.MSELoss()\n",
    "optimizer = torch.optim.Adam(model.parameters(), lr=learning_rate)"
   ]
  },
  {
   "cell_type": "code",
   "execution_count": 24,
   "id": "85f2aa7c-077f-4e12-a118-525d45b0cbbd",
   "metadata": {
    "tags": []
   },
   "outputs": [
    {
     "name": "stdout",
     "output_type": "stream",
     "text": [
      "[INFO] training the network...\n"
     ]
    },
    {
     "name": "stderr",
     "output_type": "stream",
     "text": [
      " 10%|████████▎                                                                          | 1/10 [00:02<00:19,  2.21s/it]"
     ]
    },
    {
     "name": "stdout",
     "output_type": "stream",
     "text": [
      "[INFO] EPOCH: 1/10\n",
      "Train loss: 0.006097\n",
      "\n",
      "Val loss: 0.000135\n",
      "\n"
     ]
    },
    {
     "name": "stderr",
     "output_type": "stream",
     "text": [
      " 20%|████████████████▌                                                                  | 2/10 [00:04<00:17,  2.21s/it]"
     ]
    },
    {
     "name": "stdout",
     "output_type": "stream",
     "text": [
      "[INFO] EPOCH: 2/10\n",
      "Train loss: 0.001123\n",
      "\n",
      "Val loss: 0.000047\n",
      "\n"
     ]
    },
    {
     "name": "stderr",
     "output_type": "stream",
     "text": [
      " 30%|████████████████████████▉                                                          | 3/10 [00:06<00:15,  2.17s/it]"
     ]
    },
    {
     "name": "stdout",
     "output_type": "stream",
     "text": [
      "[INFO] EPOCH: 3/10\n",
      "Train loss: 0.000411\n",
      "\n",
      "Val loss: 0.000042\n",
      "\n"
     ]
    },
    {
     "name": "stderr",
     "output_type": "stream",
     "text": [
      " 40%|█████████████████████████████████▏                                                 | 4/10 [00:08<00:13,  2.18s/it]"
     ]
    },
    {
     "name": "stdout",
     "output_type": "stream",
     "text": [
      "[INFO] EPOCH: 4/10\n",
      "Train loss: 0.000693\n",
      "\n",
      "Val loss: 0.000032\n",
      "\n"
     ]
    },
    {
     "name": "stderr",
     "output_type": "stream",
     "text": [
      " 50%|█████████████████████████████████████████▌                                         | 5/10 [00:11<00:11,  2.21s/it]"
     ]
    },
    {
     "name": "stdout",
     "output_type": "stream",
     "text": [
      "[INFO] EPOCH: 5/10\n",
      "Train loss: 0.000539\n",
      "\n",
      "Val loss: 0.000042\n",
      "\n"
     ]
    },
    {
     "name": "stderr",
     "output_type": "stream",
     "text": [
      " 60%|█████████████████████████████████████████████████▊                                 | 6/10 [00:13<00:08,  2.19s/it]"
     ]
    },
    {
     "name": "stdout",
     "output_type": "stream",
     "text": [
      "[INFO] EPOCH: 6/10\n",
      "Train loss: 0.000233\n",
      "\n",
      "Val loss: 0.000053\n",
      "\n"
     ]
    },
    {
     "name": "stderr",
     "output_type": "stream",
     "text": [
      " 70%|██████████████████████████████████████████████████████████                         | 7/10 [00:15<00:06,  2.20s/it]"
     ]
    },
    {
     "name": "stdout",
     "output_type": "stream",
     "text": [
      "[INFO] EPOCH: 7/10\n",
      "Train loss: 0.000527\n",
      "\n",
      "Val loss: 0.000040\n",
      "\n"
     ]
    },
    {
     "name": "stderr",
     "output_type": "stream",
     "text": [
      " 80%|██████████████████████████████████████████████████████████████████▍                | 8/10 [00:17<00:04,  2.22s/it]"
     ]
    },
    {
     "name": "stdout",
     "output_type": "stream",
     "text": [
      "[INFO] EPOCH: 8/10\n",
      "Train loss: 0.000233\n",
      "\n",
      "Val loss: 0.000029\n",
      "\n"
     ]
    },
    {
     "name": "stderr",
     "output_type": "stream",
     "text": [
      " 90%|██████████████████████████████████████████████████████████████████████████▋        | 9/10 [00:19<00:02,  2.21s/it]"
     ]
    },
    {
     "name": "stdout",
     "output_type": "stream",
     "text": [
      "[INFO] EPOCH: 9/10\n",
      "Train loss: 0.000175\n",
      "\n",
      "Val loss: 0.000036\n",
      "\n"
     ]
    },
    {
     "name": "stderr",
     "output_type": "stream",
     "text": [
      "100%|██████████████████████████████████████████████████████████████████████████████████| 10/10 [00:22<00:00,  2.20s/it]"
     ]
    },
    {
     "name": "stdout",
     "output_type": "stream",
     "text": [
      "[INFO] EPOCH: 10/10\n",
      "Train loss: 0.000581\n",
      "\n",
      "Val loss: 0.000033\n",
      "\n",
      "[INFO] total time taken to train the model: 22.02s\n"
     ]
    },
    {
     "name": "stderr",
     "output_type": "stream",
     "text": [
      "\n"
     ]
    }
   ],
   "source": [
    "num_epochs = 10\n",
    "\n",
    "valLoss = []\n",
    "trainLoss = []\n",
    "\n",
    "device = torch.device(\"cuda\" if torch.cuda.is_available() else \"cpu\")\n",
    "print(\"[INFO] training the network...\")\n",
    "startTime = time.time()\n",
    "\n",
    "for epoch in tqdm(range(num_epochs)):\n",
    "\n",
    "    model.train()\n",
    "\n",
    "    totalTrainLoss = 0\n",
    "    totalValLoss = 0    \n",
    "\n",
    "    for (x, y) in zip(X_train, Y_train):\n",
    "        (x, y) = (x.to(device), y.to(device))\n",
    "        pred = model(x)     \n",
    "        loss = criterion(pred, y)\n",
    "        \n",
    "        optimizer.zero_grad()\n",
    "        loss.backward()\n",
    "        optimizer.step()        \n",
    "        totalTrainLoss += loss\n",
    "            \n",
    "    with torch.no_grad():\n",
    "        model.eval()\n",
    "\n",
    "        for(x, y) in zip(X_val, Y_val):\n",
    "            (x, y) = (x.to(device), y.to(device))\n",
    "            pred = model(x)\n",
    "            totalValLoss += criterion(pred, y)\n",
    "                    \n",
    "    avgTrainLoss = totalTrainLoss/trainSteps\n",
    "    avgValLoss = totalValLoss/valSteps\n",
    "    \n",
    "    H['train_loss'].append(avgTrainLoss.cpu().detach().numpy())\n",
    "    H['val_loss'].append(avgValLoss.cpu().detach().numpy())\n",
    "    \n",
    "    print(\"[INFO] EPOCH: {}/{}\".format(epoch + 1, num_epochs))\n",
    "    print(\"Train loss: {:.6f}\\n\".format(avgTrainLoss))\n",
    "    print(\"Val loss: {:.6f}\\n\".format(avgValLoss))\n",
    "    \n",
    "endTime = time.time()\n",
    "print(\"[INFO] total time taken to train the model: {:.2f}s\".format(endTime - startTime))"
   ]
  },
  {
   "cell_type": "code",
   "execution_count": 25,
   "id": "92f93998-80f5-4100-8ef8-cd25558b28c3",
   "metadata": {},
   "outputs": [],
   "source": [
    "# print(\"[INFO] evaluating network...\")\n",
    "test_loss = []\n",
    "\n",
    "with torch.no_grad():\n",
    "    model.eval()\n",
    "    for (x, y) in zip(X_test, Y_test):\n",
    "        x = x.to(device)\n",
    "        pred = model(x)\n",
    "        loss = criterion(pred, y)\n",
    "        test_loss.append(loss)\n",
    "        "
   ]
  },
  {
   "cell_type": "code",
   "execution_count": 26,
   "id": "1f79ed0c-7c7e-4f6a-9bfd-92e70b5d86f2",
   "metadata": {},
   "outputs": [
    {
     "data": {
      "image/png": "[encoded data removed]",
      "text/plain": [
       "<Figure size 432x288 with 1 Axes>"
      ]
     },
     "metadata": {
      "needs_background": "light"
     },
     "output_type": "display_data"
    }
   ],
   "source": [
    "plt.plot(H[\"train_loss\"], label=\"train_loss\")\n",
    "plt.plot(H[\"val_loss\"], label=\"val_loss\")\n",
    "# plt.plot(test_loss, label=\"test_loss\")\n",
    "plt.title(\"Training Loss on Dataset\")\n",
    "plt.xlabel(\"Epoch #\")\n",
    "plt.ylabel(\"Loss\")\n",
    "plt.legend(loc = \"upper right\")\n",
    "plt.show()"
   ]
  },
  {
   "cell_type": "code",
   "execution_count": 27,
   "id": "086b6f80-6630-41ef-8c1c-427a46ad3df7",
   "metadata": {},
   "outputs": [
    {
     "data": {
      "image/png": "[encoded data removed]",
      "text/plain": [
       "<Figure size 432x288 with 1 Axes>"
      ]
     },
     "metadata": {
      "needs_background": "light"
     },
     "output_type": "display_data"
    }
   ],
   "source": [
    "plt.plot(test_loss, label=\"test_loss\")\n",
    "plt.title(\"Testing Loss on Dataset\")\n",
    "plt.xlabel(\"Epoch #\")\n",
    "plt.ylabel(\"Loss\")\n",
    "plt.legend(loc = \"lower left\")\n",
    "plt.show()"
   ]
  },
  {
   "cell_type": "code",
   "execution_count": 28,
   "id": "4fd4da0d-e5c1-4385-bdd6-8a626c53d787",
   "metadata": {
    "tags": []
   },
   "outputs": [
    {
     "data": {
      "image/png": "[encoded data removed]",
      "text/plain": [
       "<Figure size 432x288 with 1 Axes>"
      ]
     },
     "metadata": {
      "needs_background": "light"
     },
     "output_type": "display_data"
    },
    {
     "data": {
      "image/png": "[encoded data removed]",
      "text/plain": [
       "<Figure size 432x288 with 1 Axes>"
      ]
     },
     "metadata": {
      "needs_background": "light"
     },
     "output_type": "display_data"
    },
    {
     "data": {
      "image/png": "[encoded data removed]",
      "text/plain": [
       "<Figure size 432x288 with 1 Axes>"
      ]
     },
     "metadata": {
      "needs_background": "light"
     },
     "output_type": "display_data"
    },
    {
     "data": {
      "image/png": "[encoded data removed]",
      "text/plain": [
       "<Figure size 432x288 with 1 Axes>"
      ]
     },
     "metadata": {
      "needs_background": "light"
     },
     "output_type": "display_data"
    },
    {
     "data": {
      "image/png": "[encoded data removed]",
      "text/plain": [
       "<Figure size 432x288 with 1 Axes>"
      ]
     },
     "metadata": {
      "needs_background": "light"
     },
     "output_type": "display_data"
    },
    {
     "data": {
      "image/png": "[encoded data removed]",
      "text/plain": [
       "<Figure size 432x288 with 1 Axes>"
      ]
     },
     "metadata": {
      "needs_background": "light"
     },
     "output_type": "display_data"
    },
    {
     "data": {
      "image/png": "[encoded data removed]",
      "text/plain": [
       "<Figure size 432x288 with 1 Axes>"
      ]
     },
     "metadata": {
      "needs_background": "light"
     },
     "output_type": "display_data"
    },
    {
     "data": {
      "image/png": "[encoded data removed]",
      "text/plain": [
       "<Figure size 432x288 with 1 Axes>"
      ]
     },
     "metadata": {
      "needs_background": "light"
     },
     "output_type": "display_data"
    },
    {
     "data": {
      "image/png": "[encoded data removed]",
      "text/plain": [
       "<Figure size 432x288 with 1 Axes>"
      ]
     },
     "metadata": {
      "needs_background": "light"
     },
     "output_type": "display_data"
    }
   ],
   "source": [
    "count = 0\n",
    "\n",
    "for (x, y) in zip(X_test, Y_test):\n",
    "    \n",
    "    x = x.to(device)\n",
    "    pred = model(x)\n",
    "    \n",
    "        \n",
    "    pred = pred.detach().numpy()\n",
    "    y = y.detach().numpy()\n",
    "    \n",
    "    h_pred = np.tile(pred, (200, 1))\n",
    "    h_orig = np.tile(y, (200, 1))\n",
    "\n",
    "    plt.imshow(h_orig, cmap='hot', interpolation='nearest')\n",
    "    plt.show()\n",
    "    plt.imshow(h_pred, cmap='hot', interpolation='nearest')\n",
    "    plt.show()\n",
    "    \n",
    "    # print(pred[0])\n",
    "    # print(y[0])\n",
    "    \n",
    "    plt.plot(pred[0], label = 'predicted height')\n",
    "    plt.plot(y[0], label = 'predicted height')\n",
    "    plt.legend()\n",
    "    plt.show()\n",
    "    \n",
    "    count += 1\n",
    "    if(count==3):    \n",
    "        break"
   ]
  },
  {
   "cell_type": "markdown",
   "id": "909e1cc4-5d76-4a7e-b177-dc2f8c775c2a",
   "metadata": {},
   "source": [
    "<h2>Cross Validation<h2>"
   ]
  },
  {
   "cell_type": "code",
   "execution_count": null,
   "id": "331887c0-4b7c-4f7c-aaf7-1f37dc75ee50",
   "metadata": {},
   "outputs": [],
   "source": [
    "X_train = normalized_t_tensor\n",
    "Y_train = normalized_h_tensor\n",
    "\n",
    "print(X_train.shape)\n",
    "kf = KFold(n_splits=10)"
   ]
  },
  {
   "cell_type": "code",
   "execution_count": null,
   "id": "abd6dc26-7226-4699-ba66-7db831c0d0db",
   "metadata": {},
   "outputs": [],
   "source": [
    "plt.plot(pred[0], label = 'predicted height')"
   ]
  },
  {
   "cell_type": "code",
   "execution_count": null,
   "id": "3e14dd24-4920-4344-8c3c-ac8bceeb60b7",
   "metadata": {
    "tags": []
   },
   "outputs": [],
   "source": [
    "def network_train(network, epochs, save_Model = False):\n",
    "    losses = []\n",
    "    for fold, (train_index, test_index) in enumerate(kf.split(X_train, Y_train)):\n",
    "        # print(len(train_index), len(test_index))\n",
    "        # print(train_index)\n",
    "        ### Dividing data into folds\n",
    "        \n",
    "        x_train_fold = []\n",
    "        for i in train_index:\n",
    "            x_train_fold.append(X_train[i])\n",
    "        x_train_fold = torch.Tensor(np.array(x_train_fold))\n",
    "        \n",
    "        x_test_fold = []\n",
    "        for i in test_index:\n",
    "            x_test_fold.append(X_train[i])\n",
    "        x_test_fold = torch.Tensor(x_test_fold)\n",
    "        \n",
    "        y_train_fold = []\n",
    "        for i in train_index:\n",
    "            y_train_fold.append(Y_train[i])\n",
    "        y_train_fold = torch.Tensor(y_train_fold)\n",
    "        \n",
    "        y_test_fold = []\n",
    "        for i in test_index:\n",
    "            y_test_fold.append(Y_train[i])\n",
    "        y_test_fold = torch.Tensor(y_test_fold)\n",
    "            \n",
    "        print(type(x_train_fold))\n",
    "\n",
    "        # train = torch.utils.data.TensorDataset(x_train_fold, y_train_fold)\n",
    "        # test = torch.utils.data.TensorDataset(x_test_fold, y_test_fold)\n",
    "        # train_loader = torch.utils.data.DataLoader(train, batch_size = batch_size, shuffle = True)\n",
    "        # test_loader = torch.utils.data.DataLoader(test, batch_size = batch_size, shuffle = True)\n",
    "        \n",
    "#         trainSteps = len(x_train_fold)\n",
    "\n",
    "#         for epoch in tqdm(range(epochs)):\n",
    "#             total_loss = 0\n",
    "#             print('\\nEpoch {} / {} \\nFold number {} / {}'.format(epoch + 1, epochs, fold + 1 , kfold.get_n_splits()))\n",
    "#             # correct = 0\n",
    "#             network.train()\n",
    "#             for batch_index, (x_batch, y_batch) in enumerate(train_loader):\n",
    "#                 optimizer.zero_grad()\n",
    "#                 out = network(x_batch)\n",
    "#                 loss = criterion(out, y_batch)\n",
    "#                 loss.backward()\n",
    "#                 optimizer.step()\n",
    "#                 total_loss += loss\n",
    "#                 # pred = torch.max(out.data, dim=1)[1]\n",
    "#                 # correct += (pred == y_batch).sum()\n",
    "#                 if (batch_index + 1) % 32 == 0:\n",
    "#                     print('[{}/{} ({:.0f}%)]\\tLoss: {:.6f}\\t Accuracy:{:.3f}%'.format(\n",
    "#                         (batch_index + 1)*len(x_batch), len(train_loader.dataset),\n",
    "#                         100.*batch_index / len(train_loader), loss.data, float(correct*100) / float(batch_size*(batch_index+1))))\n",
    "#         losses.append(total_loss/trainSteps)\n",
    "#         # total_acc += float(correct*100) / float(batch_size*(batch_index+1))\n",
    "#     total_cv_loss = (sum(losses) / kfold.get_n_splits())\n",
    "#     print('\\n\\nTotal loss cross validation: {:.3f}%'.format(total_cv_loss))"
   ]
  },
  {
   "cell_type": "code",
   "execution_count": null,
   "id": "abe1fe04-80bb-44a2-bca0-d34821b541ad",
   "metadata": {
    "tags": []
   },
   "outputs": [],
   "source": [
    "network_train(model, 20)"
   ]
  },
  {
   "cell_type": "code",
   "execution_count": null,
   "id": "8a137a9b-c007-4320-b1aa-0c97100cbbf2",
   "metadata": {},
   "outputs": [],
   "source": [
    "# Meet with Lucas\n",
    "# Hyperparam tuning\n",
    "# Report\n",
    "# Overleaf - Descrip., Relev Literature"
   ]
  },
  {
   "cell_type": "code",
   "execution_count": null,
   "id": "5a2e183f-6363-4e26-bb6b-8ce2c460a328",
   "metadata": {},
   "outputs": [],
   "source": [
    "# Exp with different Val sizes\n",
    "# val loss for a subset rather than the whole set"
   ]
  }
 ],
 "metadata": {
  "kernelspec": {
   "display_name": "Python 3 (ipykernel)",
   "language": "python",
   "name": "python3"
  },
  "language_info": {
   "codemirror_mode": {
    "name": "ipython",
    "version": 3
   },
   "file_extension": ".py",
   "mimetype": "text/x-python",
   "name": "python",
   "nbconvert_exporter": "python",
   "pygments_lexer": "ipython3",
   "version": "3.8.3rc1"
  }
 },
 "nbformat": 4,
 "nbformat_minor": 5
}
