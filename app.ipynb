{
 "cells": [
  {
   "cell_type": "markdown",
   "id": "ca230093-19db-48e0-a9d3-ebce8e99bf82",
   "metadata": {},
   "source": [
    "<h2>READ FILES<h2>"
   ]
  },
  {
   "cell_type": "code",
   "execution_count": null,
   "id": "0dbc97a7-fe93-445e-ac15-87425d4d69eb",
   "metadata": {},
   "outputs": [],
   "source": [
    "import tensorflow as tf\n",
    "import numpy as np\n",
    "import os\n",
    "import pandas as pd\n",
    "import pickle\n",
    "import torch\n",
    "from tqdm import tqdm"
   ]
  },
  {
   "cell_type": "code",
   "execution_count": null,
   "id": "0f7e0de9-a908-43c1-b1ab-5019995c04b3",
   "metadata": {},
   "outputs": [],
   "source": [
    "temperature_data_path = '../data/temperature/'\n",
    "height_data_path = '../data/height/'\n",
    "\n",
    "temperature_files = os.listdir(temperature_data_path)\n",
    "height_files = os.listdir(height_data_path)"
   ]
  },
  {
   "cell_type": "code",
   "execution_count": null,
   "id": "33209249-6693-4747-b008-eadab28eeced",
   "metadata": {},
   "outputs": [],
   "source": [
    "temperature_data = []\n",
    "height_data = []\n",
    "\n",
    "for temperature_file in tqdm(temperature_files):\n",
    "    file_path = temperature_data_path + temperature_file\n",
    "    data = pd.read_csv(file_path)\n",
    "    temperature_data.append(data)\n",
    "    \n",
    "for height_file in tqdm(height_files):\n",
    "    file_path = height_data_path + height_file\n",
    "    data = pd.read_csv(file_path)\n",
    "    height_data.append(data)"
   ]
  },
  {
   "cell_type": "code",
   "execution_count": null,
   "id": "36d07c37-2455-4318-9fdb-1e6918808cd2",
   "metadata": {},
   "outputs": [],
   "source": [
    "temperature_tensor = torch.tensor(np.array(temperature_data))\n",
    "height_tensor = torch.tensor(np.array(height_data))\n",
    "torch.save(temperature_tensor, 'temperature_tensor.pt')\n",
    "torch.save(height_tensor, 'height_tensor.pt')"
   ]
  },
  {
   "cell_type": "markdown",
   "id": "ec4d3474-bbdf-42f2-99a0-c843c32bba4d",
   "metadata": {},
   "source": [
    "<h2>Remove Outliers<h2>"
   ]
  },
  {
   "cell_type": "code",
   "execution_count": null,
   "id": "0a50d88a-198d-4d15-9554-9d905d2ee036",
   "metadata": {},
   "outputs": [],
   "source": [
    "import tensorflow as tf\n",
    "import numpy as np\n",
    "import os\n",
    "import pandas as pd\n",
    "import pickle\n",
    "import torch\n",
    "from tqdm import tqdm"
   ]
  },
  {
   "cell_type": "code",
   "execution_count": null,
   "id": "efd4641b-718f-48c4-a7a2-0c9e735969e7",
   "metadata": {},
   "outputs": [],
   "source": [
    "temperature_data_path = '../data/temperature/'\n",
    "height_data_path = '../data/height/'\n",
    "\n",
    "temperature_files = os.listdir(temperature_data_path)\n",
    "height_files = os.listdir(height_data_path)\n",
    "\n",
    "print(len(temperature_files))\n",
    "print(len(height_files))"
   ]
  },
  {
   "cell_type": "code",
   "execution_count": null,
   "id": "c8e91680-c2d8-4858-9b16-4efeab096357",
   "metadata": {
    "tags": []
   },
   "outputs": [],
   "source": [
    "temperature_data = []\n",
    "height_data = []\n",
    "\n",
    "omit = [490, 706, 760, 1572, 1776]\n",
    "\n",
    "count = 1\n",
    "for temperature_file in tqdm(temperature_files):\n",
    "    if(count not in omit):\n",
    "        file_path = temperature_data_path + temperature_file\n",
    "        data = pd.read_csv(file_path)\n",
    "        temperature_data.append(data)\n",
    "    count += 1\n",
    "    \n",
    "count = 1\n",
    "for height_file in tqdm(height_files):\n",
    "    if(count not in omit):\n",
    "        file_path = height_data_path + height_file\n",
    "        data = pd.read_csv(file_path)\n",
    "        height_data.append(data)\n",
    "    count += 1"
   ]
  },
  {
   "cell_type": "code",
   "execution_count": null,
   "id": "d660332a-accd-4d1d-ad8b-9016b6367b07",
   "metadata": {},
   "outputs": [],
   "source": [
    "temperature_tensor = torch.tensor(np.array(temperature_data))\n",
    "height_tensor = torch.tensor(np.array(height_data))\n",
    "torch.save(temperature_tensor, 'temperature_tensor_v1.pt')\n",
    "torch.save(height_tensor, 'height_tensor_v1.pt')"
   ]
  },
  {
   "cell_type": "code",
   "execution_count": null,
   "id": "f85f684c-b7ed-45dd-b2d3-0ddef8cd42b1",
   "metadata": {},
   "outputs": [],
   "source": [
    "print(len(temperature_data))\n",
    "print(len(height_data))"
   ]
  },
  {
   "cell_type": "markdown",
   "id": "074b1a0e-bba1-45aa-89dc-1c0edd1aefb1",
   "metadata": {},
   "source": [
    "<h2>READ TENSORS<h2>"
   ]
  },
  {
   "cell_type": "code",
   "execution_count": 1,
   "id": "c4973851-3f03-4249-a514-6213828b6b35",
   "metadata": {},
   "outputs": [],
   "source": [
    "import tensorflow as tf\n",
    "import numpy as np\n",
    "import os\n",
    "import pandas as pd\n",
    "import pickle\n",
    "import torch\n",
    "from tqdm import tqdm\n",
    "import matplotlib.pyplot as plt\n",
    "from statistics import mean\n",
    "from sklearn.model_selection import train_test_split\n",
    "from torch.utils.data import Dataset, DataLoader\n",
    "from torch import optim\n",
    "from torch import nn\n",
    "import itertools\n",
    "import torch.nn.functional as F\n",
    "\n",
    "from tensorflow import keras\n",
    "import random\n",
    "from keras.callbacks import EarlyStopping\n",
    "from sklearn.model_selection import train_test_split\n",
    "from tensorflow.keras import optimizers"
   ]
  },
  {
   "cell_type": "code",
   "execution_count": 2,
   "id": "da0f6623-f9a4-495c-a59f-3669fd2414c6",
   "metadata": {},
   "outputs": [],
   "source": [
    "# temperature_tensor = torch.load('temperature_tensor.pt')\n",
    "# height_tensor = torch.load('height_tensor.pt')\n",
    "\n",
    "temperature_tensor = torch.load('temperature_tensor_v1.pt')\n",
    "height_tensor = torch.load('height_tensor_v1.pt')"
   ]
  },
  {
   "cell_type": "code",
   "execution_count": 3,
   "id": "a7446ecc-cc5e-4379-835c-2ee61d23145b",
   "metadata": {},
   "outputs": [
    {
     "name": "stdout",
     "output_type": "stream",
     "text": [
      "1959\n"
     ]
    }
   ],
   "source": [
    "print(len(height_tensor))"
   ]
  },
  {
   "cell_type": "markdown",
   "id": "29adefa0-5f3d-43b8-870d-3307d5ec8a26",
   "metadata": {},
   "source": [
    "<h2>Visualizations<h2>"
   ]
  },
  {
   "cell_type": "code",
   "execution_count": 4,
   "id": "cd7bfc76-0455-4cdb-abd9-b32c7b5e9a17",
   "metadata": {},
   "outputs": [
    {
     "data": {
      "image/png": "[encoded data removed]",
      "text/plain": [
       "<Figure size 432x288 with 1 Axes>"
      ]
     },
     "metadata": {
      "needs_background": "light"
     },
     "output_type": "display_data"
    },
    {
     "data": {
      "image/png": "[encoded data removed]",
      "text/plain": [
       "<Figure size 432x288 with 1 Axes>"
      ]
     },
     "metadata": {
      "needs_background": "light"
     },
     "output_type": "display_data"
    }
   ],
   "source": [
    "plt.imshow(temperature_tensor[0], cmap='hot', interpolation='nearest')\n",
    "plt.show()\n",
    "plt.imshow(height_tensor[0], cmap='hot', interpolation='nearest')\n",
    "plt.show()"
   ]
  },
  {
   "cell_type": "code",
   "execution_count": 5,
   "id": "9781b621-478a-4953-957f-4f89110c1b12",
   "metadata": {},
   "outputs": [
    {
     "data": {
      "image/png": "[encoded data removed]",
      "text/plain": [
       "<Figure size 432x288 with 1 Axes>"
      ]
     },
     "metadata": {
      "needs_background": "light"
     },
     "output_type": "display_data"
    },
    {
     "data": {
      "image/png": "[encoded data removed]",
      "text/plain": [
       "<Figure size 432x288 with 1 Axes>"
      ]
     },
     "metadata": {
      "needs_background": "light"
     },
     "output_type": "display_data"
    }
   ],
   "source": [
    "plt.imshow(temperature_tensor[50], cmap='hot', interpolation='nearest')\n",
    "plt.show()\n",
    "plt.imshow(height_tensor[50], cmap='hot', interpolation='nearest')\n",
    "plt.show()"
   ]
  },
  {
   "cell_type": "markdown",
   "id": "014ee109-ddd0-40e8-886e-1d3801e30e32",
   "metadata": {},
   "source": [
    "<h2>Data Characteristics<h2>"
   ]
  },
  {
   "cell_type": "code",
   "execution_count": null,
   "id": "764c683a-1b4a-41ca-b329-731bbf7da3eb",
   "metadata": {},
   "outputs": [],
   "source": [
    "plt.plot(temperature_tensor[0][0], label='temperature')\n",
    "plt.plot(height_tensor[0][0], label='height')\n",
    "plt.legend()\n",
    "plt.show()"
   ]
  },
  {
   "cell_type": "code",
   "execution_count": null,
   "id": "da558e9b-713c-405e-bb70-6191251ad93b",
   "metadata": {},
   "outputs": [],
   "source": [
    "plt.plot(temperature_tensor[50][0], label='temperature')\n",
    "plt.plot(height_tensor[50][0], label='height')\n",
    "plt.legend()\n",
    "plt.show()"
   ]
  },
  {
   "cell_type": "code",
   "execution_count": null,
   "id": "4eb73968-8e73-4e93-947f-adafbd320f13",
   "metadata": {},
   "outputs": [],
   "source": [
    "plt.plot(temperature_tensor[500][0], label='temperature')\n",
    "plt.plot(height_tensor[500][0], label='height')\n",
    "plt.legend()\n",
    "plt.show()"
   ]
  },
  {
   "cell_type": "code",
   "execution_count": null,
   "id": "afc6675b-75f4-41fd-94b0-8391e30c9e84",
   "metadata": {},
   "outputs": [],
   "source": [
    "temperatures = []\n",
    "heights = []\n",
    "for tensor in temperature_tensor:\n",
    "    temperatures.append(mean(tensor[0].tolist()))\n",
    "for tensor in height_tensor:\n",
    "    if(mean(tensor[0].tolist())>200):\n",
    "        for i in tensor[0]:\n",
    "            if(i>200):\n",
    "                print(i)\n",
    "    heights.append(mean(tensor[0].tolist()))\n",
    "\n",
    "plt.plot(temperatures)\n",
    "plt.show()\n",
    "plt.plot(heights)\n",
    "plt.show()"
   ]
  },
  {
   "cell_type": "code",
   "execution_count": null,
   "id": "ac81ab76-d2b8-4224-88aa-8f77ca872ec6",
   "metadata": {},
   "outputs": [],
   "source": [
    "for i in range (len(heights)):\n",
    "    if(heights[i]>200):\n",
    "        print(heights[i])\n",
    "        print(i)"
   ]
  },
  {
   "cell_type": "markdown",
   "id": "ba8c1297-8d91-41d1-80aa-f2a835db1025",
   "metadata": {},
   "source": [
    "<h2>Data<h2>"
   ]
  },
  {
   "cell_type": "code",
   "execution_count": null,
   "id": "d7643282-5883-4316-b519-881094fc27b2",
   "metadata": {},
   "outputs": [],
   "source": [
    "temperatures = temperature_tensor.numpy()\n",
    "heights = height_tensor.numpy()\n",
    "\n",
    "t = []\n",
    "for temperature in temperatures:\n",
    "    t.append([temperature[0]])\n",
    "t = np.array(t)\n",
    "t_tensor = torch.from_numpy(t).float()\n",
    "    \n",
    "h = []\n",
    "for height in heights:\n",
    "    h.append([height[0]])\n",
    "h = np.array(h)\n",
    "h_tensor = torch.from_numpy(h).float()"
   ]
  },
  {
   "cell_type": "code",
   "execution_count": null,
   "id": "151be433-0e6b-4074-9505-542d5148d143",
   "metadata": {},
   "outputs": [],
   "source": [
    "seed = 7\n",
    "X_train, X_test, Y_train, Y_test = train_test_split(t, h, test_size=0.1, random_state=seed)"
   ]
  },
  {
   "cell_type": "markdown",
   "id": "bcf3aaa5-9bf1-41a7-8c89-cb142148287c",
   "metadata": {},
   "source": [
    "<h2>CNN<h2>"
   ]
  },
  {
   "cell_type": "code",
   "execution_count": null,
   "id": "12c9e216-75dc-48e1-ae77-eb38fb816b83",
   "metadata": {},
   "outputs": [],
   "source": [
    "num_epochs = 20\n",
    "learning_rate = 0.001"
   ]
  },
  {
   "cell_type": "code",
   "execution_count": null,
   "id": "66722919-e7c8-4c4b-8d92-3a6aeb4c43d7",
   "metadata": {},
   "outputs": [],
   "source": [
    "class ConvNet(nn.Module):\n",
    "    def __init__(self):\n",
    "        super(ConvNet, self).__init__()\n",
    "        self.layer1 = nn.Sequential(\n",
    "            nn.Conv1d(1, 60, kernel_size=11, stride=1, padding=5),\n",
    "            nn.ReLU())\n",
    "        # self.layer2 = nn.Sequential(\n",
    "        #     nn.Conv1d(60, 60, kernel_size=11, stride=1, padding=1),\n",
    "        #     nn.ReLU())\n",
    "        # self.layer3 = nn.Sequential(\n",
    "        #     nn.Conv1d(60, 60, kernel_size=11, stride=1, padding=1),\n",
    "        #     nn.ReLU())\n",
    "        self.layer4 = nn.Sequential(\n",
    "            nn.Conv1d(60, 1, kernel_size=11, stride=1, padding=5),\n",
    "            nn.ReLU())\n",
    "\n",
    "    def forward(self, x):\n",
    "        out = self.layer1(x)\n",
    "        # out = self.layer2(out)\n",
    "        # out = self.layer3(out)\n",
    "        out = self.layer4(out)\n",
    "        return out  "
   ]
  },
  {
   "cell_type": "code",
   "execution_count": null,
   "id": "38f1a86c-e4b0-4f02-ba14-e7489ea23ab0",
   "metadata": {},
   "outputs": [],
   "source": [
    "model = ConvNet() \n",
    "criterion = nn.MSELoss()\n",
    "optimizer = torch.optim.Adam(model.parameters(), lr=learning_rate)"
   ]
  },
  {
   "cell_type": "code",
   "execution_count": null,
   "id": "95752298-5885-4b80-8b47-f09774f613ef",
   "metadata": {},
   "outputs": [],
   "source": [
    "# print(t_tensor[:480].squeeze())\n",
    "print(t_tensor.squeeze())"
   ]
  },
  {
   "cell_type": "code",
   "execution_count": null,
   "id": "bd79f493-8636-4fc0-afa7-1e73797a0f8e",
   "metadata": {
    "tags": []
   },
   "outputs": [],
   "source": [
    "losses = []\n",
    "\n",
    "for epoch in tqdm(range(num_epochs)):\n",
    "    # outputs = model(t_tensor[:480])\n",
    "    # loss = criterion(outputs, h_tensor[:480])\n",
    "    outputs = model(t_tensor)\n",
    "    loss = criterion(outputs, h_tensor)\n",
    "    \n",
    "    #Backprop and perform Adam optimization\n",
    "    optimizer.zero_grad()\n",
    "    loss.backward()\n",
    "    optimizer.step()\n",
    "    losses.append(loss.data.numpy())\n",
    "    print(loss.data.numpy())"
   ]
  },
  {
   "cell_type": "code",
   "execution_count": null,
   "id": "5124d030-4075-40d0-a4c1-13a50adc532a",
   "metadata": {},
   "outputs": [],
   "source": [
    "print(losses)"
   ]
  },
  {
   "cell_type": "code",
   "execution_count": null,
   "id": "b421bba2-df3b-437e-adfc-c8d786ac17c6",
   "metadata": {},
   "outputs": [],
   "source": [
    "plt.plot(losses)\n",
    "plt.show()"
   ]
  },
  {
   "cell_type": "code",
   "execution_count": null,
   "id": "55cc8cc7-495b-460a-843c-4dbc5793f503",
   "metadata": {},
   "outputs": [],
   "source": [
    "temp = 200\n",
    "\n",
    "output_1 = model(t_tensor[temp])\n",
    "output_1 = output_1.detach().numpy()\n",
    "plt.plot(output_1[0], label = 'height_1')\n",
    "\n",
    "output_2 = model(t_tensor[250])\n",
    "output_2 = output_2.detach().numpy()\n",
    "plt.plot(output_2[0], label = 'height_2')\n",
    "# plt.show()\n",
    "\n",
    "h = h_tensor[temp].numpy()\n",
    "plt.plot(h[0], label = 'original_height')\n",
    "plt.legend()\n",
    "plt.show()"
   ]
  },
  {
   "cell_type": "code",
   "execution_count": null,
   "id": "38f4dcaf-a83d-4cfa-a766-ff7ae1853c92",
   "metadata": {},
   "outputs": [],
   "source": [
    "temp = 400\n",
    "\n",
    "output_1 = model(t_tensor[temp])\n",
    "output_1 = output_1.detach().numpy()\n",
    "plt.plot(output_1[0], label = 'pred')\n",
    "# plt.show()\n",
    "\n",
    "h = h_tensor[temp].numpy()\n",
    "plt.plot(h[0], label = 'original_height')\n",
    "plt.legend()\n",
    "plt.show()"
   ]
  },
  {
   "cell_type": "code",
   "execution_count": null,
   "id": "db176b93-fda5-458c-8835-dc35b7746169",
   "metadata": {},
   "outputs": [],
   "source": [
    "h_orig = np.tile(h[0], (200, 1))\n",
    "h_pred = np.tile(output_1[0], (200, 1))\n",
    "\n",
    "plt.imshow(h_orig, cmap='hot', interpolation='nearest')\n",
    "plt.show()\n",
    "plt.imshow(h_pred, cmap='hot', interpolation='nearest')\n",
    "plt.show()"
   ]
  },
  {
   "cell_type": "markdown",
   "id": "d55e3790-47dc-492c-9827-59e8e6cf1df8",
   "metadata": {},
   "source": [
    "<h2>MLP<h2>"
   ]
  },
  {
   "cell_type": "code",
   "execution_count": null,
   "id": "d40a915b-7e56-4035-b69b-8beaf9c05819",
   "metadata": {},
   "outputs": [],
   "source": [
    "class MLP(nn.Module):\n",
    "    def __init__(self):\n",
    "        super(MLP, self).__init__()\n",
    "        self.layer1 = nn.Sequential(\n",
    "            nn.Linear(201, 201),\n",
    "            nn.ReLU())\n",
    "        # self.layer2 = nn.Sequential(\n",
    "        #     nn.Conv1d(60, 60, kernel_size=11, stride=1, padding=1),\n",
    "        #     nn.ReLU())\n",
    "        # self.layer3 = nn.Sequential(\n",
    "        #     nn.Conv1d(60, 60, kernel_size=11, stride=1, padding=1),\n",
    "        #     nn.ReLU())\n",
    "        self.layer4 = nn.Sequential(\n",
    "            nn.Linear(201, 201),\n",
    "            nn.ReLU())\n",
    "\n",
    "    def forward(self, x):\n",
    "        out = self.layer1(x)\n",
    "        # out = self.layer2(out)\n",
    "        # out = self.layer3(out)\n",
    "        out = self.layer4(out)\n",
    "        return out  "
   ]
  },
  {
   "cell_type": "code",
   "execution_count": null,
   "id": "8bfa1b29-5995-4306-9fed-ee13a2506e3f",
   "metadata": {},
   "outputs": [],
   "source": [
    "model = MLP() \n",
    "criterion = nn.MSELoss()\n",
    "optimizer = torch.optim.Adam(model.parameters(), lr=learning_rate)"
   ]
  },
  {
   "cell_type": "code",
   "execution_count": null,
   "id": "bcc3d8a3-c64c-4f5b-aed5-7e02caa56b42",
   "metadata": {},
   "outputs": [],
   "source": [
    "print(t_tensor.squeeze())"
   ]
  },
  {
   "cell_type": "code",
   "execution_count": null,
   "id": "7699f7f2-f29f-4b52-a2cd-33553fb25703",
   "metadata": {
    "tags": []
   },
   "outputs": [],
   "source": [
    "losses = []\n",
    "\n",
    "#DATA NORMALIZATION AFTER OUTLIER REMOVAL\n",
    "\n",
    "for epoch in tqdm(range(num_epochs)):\n",
    "    # outputs = model(t_tensor[:480])\n",
    "    # loss = criterion(outputs, h_tensor[:480])\n",
    "    outputs = model(t_tensor)\n",
    "    loss = criterion(outputs, h_tensor)\n",
    "    \n",
    "    #Backprop and perform Adam optimization\n",
    "    optimizer.zero_grad()\n",
    "    loss.backward()\n",
    "    optimizer.step()\n",
    "    losses.append(loss.data.numpy())\n",
    "    print(loss.data.numpy())"
   ]
  },
  {
   "cell_type": "code",
   "execution_count": null,
   "id": "71b23abb-3d9a-4dfe-b1f2-d5c98f696f3e",
   "metadata": {},
   "outputs": [],
   "source": [
    "plt.plot(losses)\n",
    "plt.show()"
   ]
  },
  {
   "cell_type": "code",
   "execution_count": null,
   "id": "005bb61a-05e9-4144-b918-0707ffdc32c3",
   "metadata": {},
   "outputs": [],
   "source": [
    "temp = 200\n",
    "\n",
    "output_1 = model(t_tensor[temp])\n",
    "output_1 = output_1.detach().numpy()\n",
    "plt.plot(output_1[0], label = 'height_1')\n",
    "\n",
    "output_2 = model(t_tensor[250])\n",
    "output_2 = output_2.detach().numpy()\n",
    "plt.plot(output_2[0], label = 'height_2')\n",
    "# plt.show()\n",
    "\n",
    "h = h_tensor[temp].numpy()\n",
    "plt.plot(h[0], label = 'original_height')\n",
    "plt.legend()\n",
    "plt.show()"
   ]
  },
  {
   "cell_type": "code",
   "execution_count": null,
   "id": "01ad8667-c88c-4715-bf41-7c55b258e2e9",
   "metadata": {},
   "outputs": [],
   "source": [
    "temp = 400\n",
    "\n",
    "output_1 = model(t_tensor[temp])\n",
    "output_1 = output_1.detach().numpy()\n",
    "plt.plot(output_1[0], label = 'pred')\n",
    "# plt.show()\n",
    "\n",
    "h = h_tensor[temp].numpy()\n",
    "plt.plot(h[0], label = 'original_height')\n",
    "plt.legend()\n",
    "plt.show()"
   ]
  },
  {
   "cell_type": "code",
   "execution_count": null,
   "id": "320a6b5b-1a86-4034-ac12-16556cd10db2",
   "metadata": {},
   "outputs": [],
   "source": [
    "h_pred = np.tile(output_1[0], (200, 1))\n",
    "h_orig = np.tile(h[0], (200, 1))\n",
    "\n",
    "plt.imshow(h_orig, cmap='hot', interpolation='nearest')\n",
    "plt.show()\n",
    "plt.imshow(h_pred, cmap='hot', interpolation='nearest')\n",
    "plt.show()"
   ]
  },
  {
   "cell_type": "markdown",
   "id": "3a9cf74d-6307-435e-adc2-5db31eea4f4a",
   "metadata": {},
   "source": [
    "<h2>Data Normalization<h2>"
   ]
  },
  {
   "cell_type": "code",
   "execution_count": 4,
   "id": "bcab00d9-f043-42c7-ba44-2185b2c69b4f",
   "metadata": {},
   "outputs": [],
   "source": [
    "normalized_temperatures = temperature_tensor.numpy()\n",
    "normalized_heights = height_tensor.numpy()\n",
    "\n",
    "normalized_t = []\n",
    "for temperature in normalized_temperatures:\n",
    "    norm = [float(i)/sum(temperature[0]) for i in temperature[0]]\n",
    "    normalized_t.append([norm])\n",
    "normalized_t = np.array(normalized_t)\n",
    "normalized_t_tensor = torch.from_numpy(normalized_t).float()\n",
    "    \n",
    "normalized_h = []\n",
    "for height in normalized_heights:\n",
    "    norm = [float(i)/sum(height[0]) for i in height[0]]\n",
    "    normalized_h.append([norm])\n",
    "normalized_h = np.array(normalized_h)\n",
    "normalized_h_tensor = torch.from_numpy(normalized_h).float()"
   ]
  },
  {
   "cell_type": "code",
   "execution_count": 8,
   "id": "fb6c8997-5b43-42c9-8007-96c85c2128d2",
   "metadata": {},
   "outputs": [
    {
     "name": "stdout",
     "output_type": "stream",
     "text": [
      "3.210414043518338e-16\n",
      "0.9999999937002089\n"
     ]
    },
    {
     "data": {
      "image/png": "[encoded data removed]",
      "text/plain": [
       "<Figure size 432x288 with 1 Axes>"
      ]
     },
     "metadata": {
      "needs_background": "light"
     },
     "output_type": "display_data"
    }
   ],
   "source": [
    "data = normalized_h_tensor.numpy()\n",
    "\n",
    "plt.hist(data.flatten())\n",
    "print(data.mean())\n",
    "print(data.std())"
   ]
  },
  {
   "cell_type": "code",
   "execution_count": 27,
   "id": "400d84c7-0620-4b9d-9261-4e482eb5c8f0",
   "metadata": {},
   "outputs": [],
   "source": [
    "t_mean = temperature_tensor.mean()\n",
    "t_std = temperature_tensor.std()\n",
    "\n",
    "normalized_t_tensor = ((temperature_tensor - t_mean)/t_std)[:,0:1,:].float()\n",
    "\n",
    "h_mean = temperature_tensor.mean()\n",
    "h_std = temperature_tensor.std()\n",
    "\n",
    "normalized_h_tensor = ((temperature_tensor - t_mean)/t_std)[:,0:1,:].float()\n"
   ]
  },
  {
   "cell_type": "markdown",
   "id": "3acdfe5e-05ea-46cb-a2ca-3ea614e8607a",
   "metadata": {},
   "source": [
    "<h4>CNN<h4>"
   ]
  },
  {
   "cell_type": "code",
   "execution_count": 28,
   "id": "48abb31c-33a4-41d3-bcb9-0dd9e7ead65f",
   "metadata": {},
   "outputs": [],
   "source": [
    "num_epochs = 20\n",
    "learning_rate = 0.001\n",
    "\n",
    "class ConvNet(nn.Module):\n",
    "    def __init__(self):\n",
    "        super(ConvNet, self).__init__()\n",
    "        self.layer1 = nn.Sequential(\n",
    "            nn.Conv1d(1, 60, kernel_size=11, stride=1, padding=5),\n",
    "            nn.ReLU())\n",
    "        self.layer4 = nn.Sequential(\n",
    "            nn.Conv1d(60, 1, kernel_size=11, stride=1, padding=5),\n",
    "            nn.ReLU())\n",
    "\n",
    "    def forward(self, x):\n",
    "        out = self.layer1(x)\n",
    "        out = self.layer4(out)\n",
    "        return out  "
   ]
  },
  {
   "cell_type": "code",
   "execution_count": 29,
   "id": "5fc5af61-a2ce-479a-b8f2-c7243964d939",
   "metadata": {},
   "outputs": [],
   "source": [
    "model = ConvNet() \n",
    "criterion = nn.MSELoss()\n",
    "optimizer = torch.optim.Adam(model.parameters(), lr=learning_rate)"
   ]
  },
  {
   "cell_type": "code",
   "execution_count": 30,
   "id": "6819f8af-0db6-4b22-81ef-8c047baddf2f",
   "metadata": {
    "tags": []
   },
   "outputs": [
    {
     "name": "stdout",
     "output_type": "stream",
     "text": [
      "tensor([[-0.4333, -0.4333, -0.4333,  ..., -0.4333, -0.4333, -0.4333],\n",
      "        [-0.4333, -0.4333, -0.4333,  ..., -0.4333, -0.4333, -0.4333],\n",
      "        [-0.4333, -0.4333, -0.4333,  ..., -0.4333, -0.4333, -0.4333],\n",
      "        ...,\n",
      "        [-0.4333, -0.4333, -0.4333,  ..., -0.4333, -0.4333, -0.4333],\n",
      "        [-0.4333, -0.4333, -0.4333,  ..., -0.4333, -0.4333, -0.4333],\n",
      "        [-0.4333, -0.4333, -0.4333,  ..., -0.4333, -0.4333, -0.4333]])\n"
     ]
    }
   ],
   "source": [
    "print(normalized_t_tensor.squeeze())"
   ]
  },
  {
   "cell_type": "code",
   "execution_count": 31,
   "id": "22286509-0c52-4b77-ba4b-c1b05bbeeacb",
   "metadata": {},
   "outputs": [
    {
     "name": "stdout",
     "output_type": "stream",
     "text": [
      "torch.Size([1959, 1, 201])\n"
     ]
    }
   ],
   "source": [
    "print(normalized_h_tensor.shape)"
   ]
  },
  {
   "cell_type": "code",
   "execution_count": 32,
   "id": "ca9e6aad-c3ad-4441-a526-b6b4b33f02d5",
   "metadata": {},
   "outputs": [
    {
     "name": "stderr",
     "output_type": "stream",
     "text": [
      "  5%|████▏                                                                              | 1/20 [00:03<01:14,  3.93s/it]"
     ]
    },
    {
     "name": "stdout",
     "output_type": "stream",
     "text": [
      "1.0019022\n"
     ]
    },
    {
     "name": "stderr",
     "output_type": "stream",
     "text": [
      " 10%|████████▎                                                                          | 2/20 [00:04<00:37,  2.10s/it]"
     ]
    },
    {
     "name": "stdout",
     "output_type": "stream",
     "text": [
      "0.98068213\n"
     ]
    },
    {
     "name": "stderr",
     "output_type": "stream",
     "text": [
      " 15%|████████████▍                                                                      | 3/20 [00:05<00:25,  1.52s/it]"
     ]
    },
    {
     "name": "stdout",
     "output_type": "stream",
     "text": [
      "0.88123405\n"
     ]
    },
    {
     "name": "stderr",
     "output_type": "stream",
     "text": [
      " 20%|████████████████▌                                                                  | 4/20 [00:06<00:20,  1.25s/it]"
     ]
    },
    {
     "name": "stdout",
     "output_type": "stream",
     "text": [
      "0.73481005\n"
     ]
    },
    {
     "name": "stderr",
     "output_type": "stream",
     "text": [
      " 25%|████████████████████▊                                                              | 5/20 [00:07<00:16,  1.11s/it]"
     ]
    },
    {
     "name": "stdout",
     "output_type": "stream",
     "text": [
      "0.5800675\n"
     ]
    },
    {
     "name": "stderr",
     "output_type": "stream",
     "text": [
      " 30%|████████████████████████▉                                                          | 6/20 [00:08<00:14,  1.02s/it]"
     ]
    },
    {
     "name": "stdout",
     "output_type": "stream",
     "text": [
      "0.4450161\n"
     ]
    },
    {
     "name": "stderr",
     "output_type": "stream",
     "text": [
      " 35%|█████████████████████████████                                                      | 7/20 [00:08<00:12,  1.03it/s]"
     ]
    },
    {
     "name": "stdout",
     "output_type": "stream",
     "text": [
      "0.33749956\n"
     ]
    },
    {
     "name": "stderr",
     "output_type": "stream",
     "text": [
      " 40%|█████████████████████████████████▏                                                 | 8/20 [00:09<00:11,  1.08it/s]"
     ]
    },
    {
     "name": "stdout",
     "output_type": "stream",
     "text": [
      "0.26121473\n"
     ]
    },
    {
     "name": "stderr",
     "output_type": "stream",
     "text": [
      " 45%|█████████████████████████████████████▎                                             | 9/20 [00:10<00:09,  1.14it/s]"
     ]
    },
    {
     "name": "stdout",
     "output_type": "stream",
     "text": [
      "0.21688998\n"
     ]
    },
    {
     "name": "stderr",
     "output_type": "stream",
     "text": [
      " 50%|█████████████████████████████████████████                                         | 10/20 [00:11<00:08,  1.14it/s]"
     ]
    },
    {
     "name": "stdout",
     "output_type": "stream",
     "text": [
      "0.20183758\n"
     ]
    },
    {
     "name": "stderr",
     "output_type": "stream",
     "text": [
      " 55%|█████████████████████████████████████████████                                     | 11/20 [00:12<00:07,  1.20it/s]"
     ]
    },
    {
     "name": "stdout",
     "output_type": "stream",
     "text": [
      "0.20927463\n"
     ]
    },
    {
     "name": "stderr",
     "output_type": "stream",
     "text": [
      " 60%|█████████████████████████████████████████████████▏                                | 12/20 [00:12<00:06,  1.25it/s]"
     ]
    },
    {
     "name": "stdout",
     "output_type": "stream",
     "text": [
      "0.22882135\n"
     ]
    },
    {
     "name": "stderr",
     "output_type": "stream",
     "text": [
      " 65%|█████████████████████████████████████████████████████▎                            | 13/20 [00:13<00:05,  1.29it/s]"
     ]
    },
    {
     "name": "stdout",
     "output_type": "stream",
     "text": [
      "0.2491413\n"
     ]
    },
    {
     "name": "stderr",
     "output_type": "stream",
     "text": [
      " 70%|█████████████████████████████████████████████████████████▍                        | 14/20 [00:14<00:04,  1.32it/s]"
     ]
    },
    {
     "name": "stdout",
     "output_type": "stream",
     "text": [
      "0.26151842\n"
     ]
    },
    {
     "name": "stderr",
     "output_type": "stream",
     "text": [
      " 75%|█████████████████████████████████████████████████████████████▌                    | 15/20 [00:15<00:03,  1.34it/s]"
     ]
    },
    {
     "name": "stdout",
     "output_type": "stream",
     "text": [
      "0.26200095\n"
     ]
    },
    {
     "name": "stderr",
     "output_type": "stream",
     "text": [
      " 80%|█████████████████████████████████████████████████████████████████▌                | 16/20 [00:15<00:02,  1.34it/s]"
     ]
    },
    {
     "name": "stdout",
     "output_type": "stream",
     "text": [
      "0.25111312\n"
     ]
    },
    {
     "name": "stderr",
     "output_type": "stream",
     "text": [
      " 85%|█████████████████████████████████████████████████████████████████████▋            | 17/20 [00:16<00:02,  1.28it/s]"
     ]
    },
    {
     "name": "stdout",
     "output_type": "stream",
     "text": [
      "0.2321929\n"
     ]
    },
    {
     "name": "stderr",
     "output_type": "stream",
     "text": [
      " 90%|█████████████████████████████████████████████████████████████████████████▊        | 18/20 [00:17<00:01,  1.32it/s]"
     ]
    },
    {
     "name": "stdout",
     "output_type": "stream",
     "text": [
      "0.20963086\n"
     ]
    },
    {
     "name": "stderr",
     "output_type": "stream",
     "text": [
      " 95%|█████████████████████████████████████████████████████████████████████████████▉    | 19/20 [00:18<00:00,  1.35it/s]"
     ]
    },
    {
     "name": "stdout",
     "output_type": "stream",
     "text": [
      "0.18757382\n"
     ]
    },
    {
     "name": "stderr",
     "output_type": "stream",
     "text": [
      "100%|██████████████████████████████████████████████████████████████████████████████████| 20/20 [00:18<00:00,  1.06it/s]"
     ]
    },
    {
     "name": "stdout",
     "output_type": "stream",
     "text": [
      "0.1691638\n"
     ]
    },
    {
     "name": "stderr",
     "output_type": "stream",
     "text": [
      "\n"
     ]
    }
   ],
   "source": [
    "losses = []\n",
    "\n",
    "for epoch in tqdm(range(num_epochs)):\n",
    "    outputs = model(normalized_t_tensor)\n",
    "    loss = criterion(outputs, normalized_h_tensor)\n",
    "    \n",
    "    optimizer.zero_grad()\n",
    "    loss.backward()\n",
    "    optimizer.step()\n",
    "    losses.append(loss.data.numpy())\n",
    "    print(loss.data.numpy())"
   ]
  },
  {
   "cell_type": "code",
   "execution_count": 33,
   "id": "a9fd452b-2b17-4920-b5cb-755407dc104a",
   "metadata": {},
   "outputs": [
    {
     "data": {
      "image/png": "[encoded data removed]",
      "text/plain": [
       "<Figure size 432x288 with 1 Axes>"
      ]
     },
     "metadata": {
      "needs_background": "light"
     },
     "output_type": "display_data"
    }
   ],
   "source": [
    "plt.plot(losses)\n",
    "plt.show()"
   ]
  },
  {
   "cell_type": "code",
   "execution_count": 34,
   "id": "547c33ec-a275-4954-8eed-70a5e11474ce",
   "metadata": {},
   "outputs": [
    {
     "data": {
      "image/png": "[encoded data removed]",
      "text/plain": [
       "<Figure size 432x288 with 1 Axes>"
      ]
     },
     "metadata": {
      "needs_background": "light"
     },
     "output_type": "display_data"
    }
   ],
   "source": [
    "temp = 200\n",
    "\n",
    "output_1 = model(normalized_t_tensor[temp])\n",
    "output_1 = output_1.detach().numpy()\n",
    "plt.plot(output_1[0], label = 'height_1')\n",
    "\n",
    "output_2 = model(normalized_t_tensor[250])\n",
    "output_2 = output_2.detach().numpy()\n",
    "plt.plot(output_2[0], label = 'height_2')\n",
    "\n",
    "h = normalized_h_tensor[temp].numpy()\n",
    "plt.plot(h[0], label = 'original_height')\n",
    "plt.legend()\n",
    "plt.show()"
   ]
  },
  {
   "cell_type": "code",
   "execution_count": 35,
   "id": "628ec276-8e76-464f-88d3-54a36ba52056",
   "metadata": {},
   "outputs": [
    {
     "data": {
      "image/png": "[encoded data removed]",
      "text/plain": [
       "<Figure size 432x288 with 1 Axes>"
      ]
     },
     "metadata": {
      "needs_background": "light"
     },
     "output_type": "display_data"
    }
   ],
   "source": [
    "temp = 400\n",
    "\n",
    "output_1 = model(normalized_t_tensor[temp])\n",
    "output_1 = output_1.detach().numpy()\n",
    "plt.plot(output_1[0], label = 'height_1')\n",
    "\n",
    "output_2 = model(normalized_t_tensor[250])\n",
    "output_2 = output_2.detach().numpy()\n",
    "plt.plot(output_2[0], label = 'height_2')\n",
    "# plt.show()\n",
    "\n",
    "h = normalized_h_tensor[temp].numpy()\n",
    "plt.plot(h[0], label = 'original_height')\n",
    "plt.legend()\n",
    "plt.show()"
   ]
  },
  {
   "cell_type": "code",
   "execution_count": 36,
   "id": "8ebf24ee-7b0d-436e-9a3b-b4693b5a1a59",
   "metadata": {},
   "outputs": [
    {
     "data": {
      "image/png": "[encoded data removed]",
      "text/plain": [
       "<Figure size 432x288 with 1 Axes>"
      ]
     },
     "metadata": {
      "needs_background": "light"
     },
     "output_type": "display_data"
    },
    {
     "data": {
      "image/png": "[encoded data removed]",
      "text/plain": [
       "<Figure size 432x288 with 1 Axes>"
      ]
     },
     "metadata": {
      "needs_background": "light"
     },
     "output_type": "display_data"
    }
   ],
   "source": [
    "h_pred = np.tile(output_1[0], (200, 1))\n",
    "h_orig = np.tile(h[0], (200, 1))\n",
    "\n",
    "plt.imshow(h_orig, cmap='hot', interpolation='nearest')\n",
    "plt.show()\n",
    "plt.imshow(h_pred, cmap='hot', interpolation='nearest')\n",
    "plt.show()"
   ]
  },
  {
   "cell_type": "markdown",
   "id": "a59ae385-61ea-4dbf-abf3-ffee04ed00f8",
   "metadata": {},
   "source": [
    "<h4>MLP<h4>"
   ]
  },
  {
   "cell_type": "code",
   "execution_count": null,
   "id": "a6fbf1f2-b5ec-4ce3-909a-f4a6c86acd9a",
   "metadata": {},
   "outputs": [],
   "source": [
    "class MLP(nn.Module):\n",
    "    def __init__(self):\n",
    "        super(MLP, self).__init__()\n",
    "        self.layer1 = nn.Sequential(\n",
    "            nn.Linear(201, 201),\n",
    "            nn.ReLU())\n",
    "        self.layer4 = nn.Sequential(\n",
    "            nn.Linear(201, 201),\n",
    "            nn.ReLU())\n",
    "\n",
    "    def forward(self, x):\n",
    "        out = self.layer1(x)\n",
    "        out = self.layer4(out)\n",
    "        return out  "
   ]
  },
  {
   "cell_type": "code",
   "execution_count": null,
   "id": "eb19bee4-1539-4d7d-81a3-ef2496dd2850",
   "metadata": {},
   "outputs": [],
   "source": [
    "model = MLP() \n",
    "criterion = nn.MSELoss()\n",
    "optimizer = torch.optim.Adam(model.parameters(), lr=learning_rate)"
   ]
  },
  {
   "cell_type": "code",
   "execution_count": null,
   "id": "ecf4cb60-3f72-4890-99a3-6db7f97adabb",
   "metadata": {},
   "outputs": [],
   "source": [
    "print(normalized_t_tensor.squeeze())"
   ]
  },
  {
   "cell_type": "code",
   "execution_count": null,
   "id": "1e0f3f7b-14fb-4be4-a0c6-cee5edaabfc0",
   "metadata": {
    "tags": []
   },
   "outputs": [],
   "source": [
    "losses = []\n",
    "\n",
    "for epoch in tqdm(range(num_epochs)):\n",
    "    outputs = model(normalized_t_tensor)\n",
    "    loss = criterion(outputs, normalized_h_tensor)\n",
    "\n",
    "    optimizer.zero_grad()\n",
    "    loss.backward()\n",
    "    optimizer.step()\n",
    "    losses.append(loss.data.numpy())\n",
    "    print(loss.data.numpy())"
   ]
  },
  {
   "cell_type": "code",
   "execution_count": null,
   "id": "751331f1-fb81-4856-b4e8-de42d604ea93",
   "metadata": {},
   "outputs": [],
   "source": [
    "plt.plot(losses)\n",
    "plt.show()"
   ]
  },
  {
   "cell_type": "code",
   "execution_count": null,
   "id": "b2b9ba9e-9ee9-4066-b40d-d6a2eb51a3f3",
   "metadata": {},
   "outputs": [],
   "source": [
    "temp = 200\n",
    "\n",
    "output_1 = model(normalized_t_tensor[temp])\n",
    "output_1 = output_1.detach().numpy()\n",
    "plt.plot(output_1[0], label = 'height_1')\n",
    "\n",
    "output_2 = model(normalized_t_tensor[250])\n",
    "output_2 = output_2.detach().numpy()\n",
    "plt.plot(output_2[0], label = 'height_2')\n",
    "\n",
    "h = normalized_h_tensor[temp].numpy()\n",
    "plt.plot(h[0], label = 'original_height')\n",
    "plt.legend()\n",
    "plt.show()"
   ]
  },
  {
   "cell_type": "code",
   "execution_count": null,
   "id": "c326e651-e02e-40b9-92f0-66a72166ae65",
   "metadata": {},
   "outputs": [],
   "source": [
    "temp = 400\n",
    "\n",
    "output_1 = model(normalized_t_tensor[temp])\n",
    "output_1 = output_1.detach().numpy()\n",
    "plt.plot(output_1[0], label = 'pred')\n",
    "\n",
    "h = normalized_h_tensor[temp].numpy()\n",
    "plt.plot(h[0], label = 'original_height')\n",
    "plt.legend()\n",
    "plt.show()"
   ]
  },
  {
   "cell_type": "code",
   "execution_count": null,
   "id": "0a68b4b6-4a9b-4fc8-b5ee-8ce550cd26c0",
   "metadata": {},
   "outputs": [],
   "source": [
    "h_pred = np.tile(output_1[0], (200, 1))\n",
    "h_orig = np.tile(h[0], (200, 1))\n",
    "\n",
    "plt.imshow(h_orig, cmap='hot', interpolation='nearest')\n",
    "plt.show()\n",
    "plt.imshow(h_pred, cmap='hot', interpolation='nearest')\n",
    "plt.show()"
   ]
  },
  {
   "cell_type": "markdown",
   "id": "028d5148-39ba-4b72-8246-267516c4360f",
   "metadata": {},
   "source": [
    "<h2>Deeper and Wider Network<h2>"
   ]
  },
  {
   "cell_type": "code",
   "execution_count": null,
   "id": "493e783e-7594-4560-8c5a-e0ab089b5ed6",
   "metadata": {},
   "outputs": [],
   "source": [
    "num_epochs = 20\n",
    "learning_rate = 0.001\n",
    "\n",
    "class ConvNet(nn.Module):\n",
    "    def __init__(self):\n",
    "        super(ConvNet, self).__init__()\n",
    "        self.layer1 = nn.Sequential(\n",
    "            nn.Conv1d(1, 60, kernel_size=7, stride=1, padding=5),\n",
    "            nn.ReLU())\n",
    "        self.layer2 = nn.Sequential(\n",
    "            nn.Conv1d(60, 70, kernel_size=5, stride=1, padding=12),\n",
    "            nn.ReLU())\n",
    "        self.layer3 = nn.Sequential(\n",
    "            nn.Conv1d(70, 80, kernel_size=11, stride=1, padding=1),\n",
    "            nn.ReLU())\n",
    "        self.layer4 = nn.Sequential(\n",
    "            nn.Conv1d(80, 70, kernel_size=11, stride=1, padding=1),\n",
    "            nn.ReLU())\n",
    "        self.layer5 = nn.Sequential(\n",
    "            nn.Conv1d(70, 60, kernel_size=11, stride=1, padding=1),\n",
    "            nn.ReLU())\n",
    "        self.layer6 = nn.Sequential(\n",
    "            nn.Conv1d(60, 1, kernel_size=11, stride=1, padding=5),\n",
    "            nn.ReLU())\n",
    "\n",
    "    def forward(self, x):\n",
    "        out = self.layer1(x)\n",
    "        out = self.layer2(out)\n",
    "        out = self.layer3(out)\n",
    "        out = self.layer4(out)\n",
    "        out = self.layer5(out)\n",
    "        out = self.layer6(out)\n",
    "        return out  "
   ]
  },
  {
   "cell_type": "code",
   "execution_count": null,
   "id": "8507f286-8e27-41c0-83b4-20a9c790f5b0",
   "metadata": {},
   "outputs": [],
   "source": [
    "model = ConvNet() \n",
    "criterion = nn.MSELoss()\n",
    "optimizer = torch.optim.Adam(model.parameters(), lr=learning_rate)"
   ]
  },
  {
   "cell_type": "code",
   "execution_count": null,
   "id": "212e712d-e5f5-4325-9448-18e045480bd7",
   "metadata": {},
   "outputs": [],
   "source": [
    "print(normalized_t_tensor.squeeze())"
   ]
  },
  {
   "cell_type": "code",
   "execution_count": null,
   "id": "8f8eb2fa-6f0d-4a04-86ea-c78cd6f2a7e0",
   "metadata": {},
   "outputs": [],
   "source": [
    "losses = []\n",
    "\n",
    "for epoch in tqdm(range(num_epochs)):\n",
    "    outputs = model(t_tensor)\n",
    "    loss = criterion(outputs, h_tensor)\n",
    "    \n",
    "    optimizer.zero_grad()\n",
    "    loss.backward()\n",
    "    optimizer.step()\n",
    "    losses.append(loss.data.numpy())\n",
    "    print(loss.data.numpy())"
   ]
  },
  {
   "cell_type": "code",
   "execution_count": null,
   "id": "4f653604-5b74-4bad-b5d1-12de349040cf",
   "metadata": {},
   "outputs": [],
   "source": [
    "plt.plot(losses)\n",
    "plt.show()"
   ]
  },
  {
   "cell_type": "code",
   "execution_count": null,
   "id": "58f1140a-755e-4ade-83cd-57c97a8bb247",
   "metadata": {},
   "outputs": [],
   "source": [
    "temp = 200\n",
    "\n",
    "output_1 = model(t_tensor[temp])\n",
    "output_1 = output_1.detach().numpy()\n",
    "plt.plot(output_1[0], label = 'height_1')\n",
    "\n",
    "output_2 = model(t_tensor[250])\n",
    "output_2 = output_2.detach().numpy()\n",
    "plt.plot(output_2[0], label = 'height_2')\n",
    "# plt.show()\n",
    "\n",
    "h = h_tensor[temp].numpy()\n",
    "plt.plot(h[0], label = 'original_height')\n",
    "plt.legend()\n",
    "plt.show()"
   ]
  },
  {
   "cell_type": "code",
   "execution_count": null,
   "id": "5ca26171-0914-4794-b3ac-10c63904d820",
   "metadata": {},
   "outputs": [],
   "source": [
    "temp = 400\n",
    "\n",
    "output_1 = model(t_tensor[temp])\n",
    "output_1 = output_1.detach().numpy()\n",
    "plt.plot(output_1[0], label = 'height_1')\n",
    "\n",
    "output_2 = model(t_tensor[250])\n",
    "output_2 = output_2.detach().numpy()\n",
    "plt.plot(output_2[0], label = 'height_2')\n",
    "# plt.show()\n",
    "\n",
    "h = h_tensor[temp].numpy()\n",
    "plt.plot(h[0], label = 'original_height')\n",
    "plt.legend()\n",
    "plt.show()"
   ]
  },
  {
   "cell_type": "code",
   "execution_count": null,
   "id": "c64748b2-7f30-4f2c-8ada-31b7c378e4cc",
   "metadata": {},
   "outputs": [],
   "source": [
    "h_pred = np.tile(output_1[0], (200, 1))\n",
    "h_orig = np.tile(h[0], (200, 1))\n",
    "\n",
    "plt.imshow(h_orig, cmap='hot', interpolation='nearest')\n",
    "plt.show()\n",
    "plt.imshow(h_pred, cmap='hot', interpolation='nearest')\n",
    "plt.show()"
   ]
  },
  {
   "cell_type": "markdown",
   "id": "2efd0c52-cc5d-4c2c-970e-4ad685b64ef4",
   "metadata": {},
   "source": [
    "<h4>MLP<h4>"
   ]
  },
  {
   "cell_type": "code",
   "execution_count": null,
   "id": "6a9d086f-b618-405b-b4da-adedad3048d9",
   "metadata": {},
   "outputs": [],
   "source": [
    "class MLP(nn.Module):\n",
    "    def __init__(self):\n",
    "        super(MLP, self).__init__()\n",
    "        self.layer1 = nn.Sequential(\n",
    "            nn.Linear(201, 201),\n",
    "            nn.ReLU())\n",
    "        self.layer2 = nn.Sequential(\n",
    "            nn.Linear(201, 201),\n",
    "            nn.ReLU())\n",
    "        self.layer3 = nn.Sequential(\n",
    "            nn.Linear(201, 201),\n",
    "            nn.ReLU())\n",
    "        self.layer4 = nn.Sequential(\n",
    "            nn.Linear(201, 201),\n",
    "            nn.ReLU())\n",
    "\n",
    "    def forward(self, x):\n",
    "        out = self.layer1(x)\n",
    "        out = self.layer2(out)\n",
    "        out = self.layer3(out)\n",
    "        out = self.layer4(out)\n",
    "        return out  "
   ]
  },
  {
   "cell_type": "code",
   "execution_count": null,
   "id": "fa9b5e9d-a40e-4f4b-9e65-5a220a1b79be",
   "metadata": {},
   "outputs": [],
   "source": [
    "model = MLP() \n",
    "criterion = nn.MSELoss()\n",
    "optimizer = torch.optim.Adam(model.parameters(), lr=learning_rate)"
   ]
  },
  {
   "cell_type": "code",
   "execution_count": null,
   "id": "77bd9bc2-c831-45a4-91eb-c5bba69d632a",
   "metadata": {},
   "outputs": [],
   "source": [
    "print(t_tensor.squeeze())"
   ]
  },
  {
   "cell_type": "code",
   "execution_count": null,
   "id": "003e4d60-fe75-4ff3-8adf-74b1d2aece36",
   "metadata": {
    "tags": []
   },
   "outputs": [],
   "source": [
    "losses = []\n",
    "num_epochs = 100\n",
    "\n",
    "for epoch in tqdm(range(num_epochs)):\n",
    "    outputs = model(t_tensor)\n",
    "    loss = criterion(outputs, h_tensor)\n",
    "\n",
    "    optimizer.zero_grad()\n",
    "    loss.backward()\n",
    "    optimizer.step()\n",
    "    losses.append(loss.data.numpy())\n",
    "    print(loss.data.numpy())"
   ]
  },
  {
   "cell_type": "code",
   "execution_count": null,
   "id": "3c295d34-9e87-4853-aa17-5e94d99cc847",
   "metadata": {},
   "outputs": [],
   "source": [
    "plt.plot(losses)\n",
    "plt.show()"
   ]
  },
  {
   "cell_type": "code",
   "execution_count": null,
   "id": "46abd3c5-ff6c-483d-a5d9-8b8bc83a1295",
   "metadata": {},
   "outputs": [],
   "source": [
    "temp = 200\n",
    "\n",
    "output_1 = model(t_tensor[temp])\n",
    "output_1 = output_1.detach().numpy()\n",
    "plt.plot(output_1[0], label = 'height_1')\n",
    "\n",
    "output_2 = model(t_tensor[250])\n",
    "output_2 = output_2.detach().numpy()\n",
    "plt.plot(output_2[0], label = 'height_2')\n",
    "\n",
    "h = h_tensor[temp].numpy()\n",
    "plt.plot(h[0], label = 'original_height')\n",
    "plt.legend()\n",
    "plt.show()"
   ]
  },
  {
   "cell_type": "code",
   "execution_count": null,
   "id": "76451095-2e73-40da-afba-f0267d66b330",
   "metadata": {},
   "outputs": [],
   "source": [
    "temp = 400\n",
    "\n",
    "output_1 = model(t_tensor[temp])\n",
    "output_1 = output_1.detach().numpy()\n",
    "plt.plot(output_1[0], label = 'pred')\n",
    "\n",
    "h = h_tensor[temp].numpy()\n",
    "plt.plot(h[0], label = 'original_height')\n",
    "plt.legend()\n",
    "plt.show()"
   ]
  },
  {
   "cell_type": "code",
   "execution_count": null,
   "id": "30354c78-73d4-4a99-b022-f429bda2456f",
   "metadata": {},
   "outputs": [],
   "source": [
    "h_pred = np.tile(output_1[0], (200, 1))\n",
    "h_orig = np.tile(h[0], (200, 1))\n",
    "\n",
    "plt.imshow(h_orig, cmap='hot', interpolation='nearest')\n",
    "plt.show()\n",
    "plt.imshow(h_pred, cmap='hot', interpolation='nearest')\n",
    "plt.show()"
   ]
  },
  {
   "cell_type": "markdown",
   "id": "bcb42043-8bef-483e-b75a-f5dacb602678",
   "metadata": {},
   "source": [
    "<h2>Single Cell Convolutions<h2>"
   ]
  },
  {
   "cell_type": "code",
   "execution_count": null,
   "id": "683c204f-7eed-432f-b798-14b5f6490d9e",
   "metadata": {},
   "outputs": [],
   "source": [
    "num_epochs = 20\n",
    "learning_rate = 0.001"
   ]
  },
  {
   "cell_type": "code",
   "execution_count": null,
   "id": "50b0ff2e-87dc-471c-beb9-8692c040edb4",
   "metadata": {},
   "outputs": [],
   "source": [
    "class ConvNet(nn.Module):\n",
    "    def __init__(self):\n",
    "        super(ConvNet, self).__init__()\n",
    "        self.layer1 = nn.Sequential(\n",
    "            nn.Conv1d(1, 60, kernel_size=1, stride=1),\n",
    "            nn.ReLU())\n",
    "        self.layer2 = nn.Sequential(\n",
    "            nn.Conv1d(60, 60, kernel_size=1, stride=1),\n",
    "            nn.ReLU())\n",
    "        self.layer3 = nn.Sequential(\n",
    "            nn.Conv1d(60, 60, kernel_size=1, stride=1),\n",
    "            nn.ReLU())\n",
    "        # self.layer4 = nn.Sequential(\n",
    "        #     nn.Conv1d(80, 70, kernel_size=1, stride=1, padding=1),\n",
    "        #     nn.ReLU())\n",
    "        # self.layer5 = nn.Sequential(\n",
    "        #     nn.Conv1d(70, 60, kernel_size=1, stride=1, padding=1),\n",
    "        #     nn.ReLU())\n",
    "        self.layer6 = nn.Sequential(\n",
    "            nn.Conv1d(60, 1, kernel_size=1, stride=1),\n",
    "            nn.ReLU())\n",
    "\n",
    "    def forward(self, x):\n",
    "        out = self.layer1(x)\n",
    "        out = self.layer2(out)\n",
    "        out = self.layer3(out)\n",
    "        # out = self.layer4(out)\n",
    "        # out = self.layer5(out)\n",
    "        out = self.layer6(out)\n",
    "        return out  "
   ]
  },
  {
   "cell_type": "code",
   "execution_count": null,
   "id": "8601162c-8bb2-49e7-b65d-92ebfb55a0a3",
   "metadata": {},
   "outputs": [],
   "source": [
    "model = ConvNet() \n",
    "criterion = nn.MSELoss()\n",
    "optimizer = torch.optim.Adam(model.parameters(), lr=learning_rate)"
   ]
  },
  {
   "cell_type": "code",
   "execution_count": null,
   "id": "bcfea329-2f57-4918-8024-bf6fdabe9f07",
   "metadata": {},
   "outputs": [],
   "source": [
    "print(normalized_t_tensor.squeeze())"
   ]
  },
  {
   "cell_type": "code",
   "execution_count": null,
   "id": "1c60dcdb-d9cd-470a-9fe5-984381d52a57",
   "metadata": {},
   "outputs": [],
   "source": [
    "losses = []\n",
    "num_epochs = 20\n",
    "\n",
    "for epoch in tqdm(range(num_epochs)):\n",
    "    outputs = model(t_tensor)\n",
    "    loss = criterion(outputs, h_tensor)\n",
    "    \n",
    "    optimizer.zero_grad()\n",
    "    loss.backward()\n",
    "    optimizer.step()\n",
    "    losses.append(loss.data.numpy())\n",
    "    print(loss.data.numpy())"
   ]
  },
  {
   "cell_type": "code",
   "execution_count": null,
   "id": "1b5f9954-2609-4239-bdab-186fd77ea914",
   "metadata": {},
   "outputs": [],
   "source": [
    "plt.plot(losses)\n",
    "plt.show()"
   ]
  },
  {
   "cell_type": "code",
   "execution_count": null,
   "id": "5a44f31c-4d4e-461a-b3a1-63d37d1bc284",
   "metadata": {},
   "outputs": [],
   "source": [
    "temp = 200\n",
    "\n",
    "output_1 = model(t_tensor[temp])\n",
    "output_1 = output_1.detach().numpy()\n",
    "plt.plot(output_1[0], label = 'height_1')\n",
    "\n",
    "output_2 = model(t_tensor[250])\n",
    "output_2 = output_2.detach().numpy()\n",
    "plt.plot(output_2[0], label = 'height_2')\n",
    "# plt.show()\n",
    "\n",
    "h = h_tensor[temp].numpy()\n",
    "plt.plot(h[0], label = 'original_height')\n",
    "plt.legend()\n",
    "plt.show()"
   ]
  },
  {
   "cell_type": "code",
   "execution_count": null,
   "id": "de0a176a-7fbe-4078-a50b-04eccd143e74",
   "metadata": {},
   "outputs": [],
   "source": [
    "temp = 400\n",
    "\n",
    "output_1 = model(t_tensor[temp])\n",
    "output_1 = output_1.detach().numpy()\n",
    "plt.plot(output_1[0], label = 'height_1')\n",
    "\n",
    "output_2 = model(t_tensor[250])\n",
    "output_2 = output_2.detach().numpy()\n",
    "plt.plot(output_2[0], label = 'height_2')\n",
    "# plt.show()\n",
    "\n",
    "h = h_tensor[temp].numpy()\n",
    "plt.plot(h[0], label = 'original_height')\n",
    "plt.legend()\n",
    "plt.show()"
   ]
  },
  {
   "cell_type": "code",
   "execution_count": null,
   "id": "6a15a226-e8dd-4e1a-9b89-39a317bcb33d",
   "metadata": {},
   "outputs": [],
   "source": [
    "h_pred = np.tile(output_1[0], (200, 1))\n",
    "h_orig = np.tile(h[0], (200, 1))\n",
    "\n",
    "plt.imshow(h_orig, cmap='hot', interpolation='nearest')\n",
    "plt.show()\n",
    "plt.imshow(h_pred, cmap='hot', interpolation='nearest')\n",
    "plt.show()"
   ]
  },
  {
   "cell_type": "code",
   "execution_count": null,
   "id": "56bc1a3a-91c1-4bfd-bc76-fd7188c512ba",
   "metadata": {},
   "outputs": [],
   "source": [
    "'''\n",
    "ConvNet, Linear DONE\n",
    "Remove outliers DONE\n",
    "Data normalization DONE \n",
    "Deeper and Wider nets DONE\n",
    "Conv - Single cell convs (kernel size 1) DONE\n",
    "Activation functions DONE\n",
    "Changing Loss Functions DONE\n",
    "Try overfitting single sample\n",
    "'''"
   ]
  },
  {
   "cell_type": "code",
   "execution_count": null,
   "id": "4c6cabf3-3cf7-4c92-bf5e-6f723a6b3acc",
   "metadata": {},
   "outputs": [],
   "source": []
  }
 ],
 "metadata": {
  "kernelspec": {
   "display_name": "Python 3 (ipykernel)",
   "language": "python",
   "name": "python3"
  },
  "language_info": {
   "codemirror_mode": {
    "name": "ipython",
    "version": 3
   },
   "file_extension": ".py",
   "mimetype": "text/x-python",
   "name": "python",
   "nbconvert_exporter": "python",
   "pygments_lexer": "ipython3",
   "version": "3.8.3rc1"
  }
 },
 "nbformat": 4,
 "nbformat_minor": 5
}
